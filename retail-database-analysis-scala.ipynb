{
 "cells": [
  {
   "cell_type": "markdown",
   "metadata": {},
   "source": [
    "# Data Analysis of a Retail Store using Apache Spark (Scala)\n",
    "\n",
    "These tables come from the Cloudera Installation. A fictitious retail house with the following tables: customers, departments, categories, products, orders and order_items. In this notebook we will go through Spark SQL as well as Spark DF API based transformations and actions ranging from simple to quite complex.\n",
    " \n",
    "\n",
    "`@author: Amarnath Mukherjee | @email: amarnath.muk@gmail.com | VISA, Inc.`  \n",
    "`@author: Anindya Saha | @email: mail.anindya@gmail.com | NetApp, Inc.`"
   ]
  },
  {
   "cell_type": "markdown",
   "metadata": {},
   "source": [
    "## 1. Understanding the Data Set:\n",
    "![](assets/cloudera-retail-db.png)\n",
    "Picture Source: https://www.cloudera.com/developers/get-started-with-hadoop-tutorial/exercise-1.html\n",
    "```\n",
    "mysql> describe customers;\n",
    "+-------------------+--------------+------+-----+---------+----------------+\n",
    "| Field             | Type         | Null | Key | Default | Extra          |\n",
    "+-------------------+--------------+------+-----+---------+----------------+\n",
    "| customer_id       | int(11)      | NO   | PRI | NULL    | auto_increment |\n",
    "| customer_fname    | varchar(45)  | NO   |     | NULL    |                |\n",
    "| customer_lname    | varchar(45)  | NO   |     | NULL    |                |\n",
    "| customer_email    | varchar(45)  | NO   |     | NULL    |                |\n",
    "| customer_password | varchar(45)  | NO   |     | NULL    |                |\n",
    "| customer_street   | varchar(255) | NO   |     | NULL    |                |\n",
    "| customer_city     | varchar(45)  | NO   |     | NULL    |                |\n",
    "| customer_state    | varchar(45)  | NO   |     | NULL    |                |\n",
    "| customer_zipcode  | varchar(45)  | NO   |     | NULL    |                |\n",
    "+-------------------+--------------+------+-----+---------+----------------+\n",
    "\n",
    "mysql> describe departments;\n",
    "+-----------------+-------------+------+-----+---------+----------------+\n",
    "| Field           | Type        | Null | Key | Default | Extra          |\n",
    "+-----------------+-------------+------+-----+---------+----------------+\n",
    "| department_id   | int(11)     | NO   | PRI | NULL    | auto_increment |\n",
    "| department_name | varchar(45) | NO   |     | NULL    |                |\n",
    "+-----------------+-------------+------+-----+---------+----------------+\n",
    "\n",
    "mysql> describe categories;\n",
    "+------------------------+-------------+------+-----+---------+----------------+\n",
    "| Field                  | Type        | Null | Key | Default | Extra          |\n",
    "+------------------------+-------------+------+-----+---------+----------------+\n",
    "| category_id            | int(11)     | NO   | PRI | NULL    | auto_increment |\n",
    "| category_department_id | int(11)     | NO   |     | NULL    |                |\n",
    "| category_name          | varchar(45) | NO   |     | NULL    |                |\n",
    "+------------------------+-------------+------+-----+---------+----------------+\n",
    "\n",
    "mysql> describe products;\n",
    "+---------------------+--------------+------+-----+---------+----------------+\n",
    "| Field               | Type         | Null | Key | Default | Extra          |\n",
    "+---------------------+--------------+------+-----+---------+----------------+\n",
    "| product_id          | int(11)      | NO   | PRI | NULL    | auto_increment |\n",
    "| product_category_id | int(11)      | NO   |     | NULL    |                |\n",
    "| product_name        | varchar(45)  | NO   |     | NULL    |                |\n",
    "| product_description | varchar(255) | NO   |     | NULL    |                |\n",
    "| product_price       | float        | NO   |     | NULL    |                |\n",
    "| product_image       | varchar(255) | NO   |     | NULL    |                |\n",
    "+---------------------+--------------+------+-----+---------+----------------+\n",
    "\n",
    "mysql> describe orders;\n",
    "+-------------------+-------------+------+-----+---------+----------------+\n",
    "| Field             | Type        | Null | Key | Default | Extra          |\n",
    "+-------------------+-------------+------+-----+---------+----------------+\n",
    "| order_id          | int(11)     | NO   | PRI | NULL    | auto_increment |\n",
    "| order_date        | datetime    | NO   |     | NULL    |                |\n",
    "| order_customer_id | int(11)     | NO   |     | NULL    |                |\n",
    "| order_status      | varchar(45) | NO   |     | NULL    |                |\n",
    "+-------------------+-------------+------+-----+---------+----------------+\n",
    "\n",
    "mysql> describe order_items;\n",
    "+--------------------------+------------+------+-----+---------+----------------+\n",
    "| Field                    | Type       | Null | Key | Default | Extra          |\n",
    "+--------------------------+------------+------+-----+---------+----------------+\n",
    "| order_item_id            | int(11)    | NO   | PRI | NULL    | auto_increment |\n",
    "| order_item_order_id      | int(11)    | NO   |     | NULL    |                |\n",
    "| order_item_product_id    | int(11)    | NO   |     | NULL    |                |\n",
    "| order_item_quantity      | tinyint(4) | NO   |     | NULL    |                |\n",
    "| order_item_subtotal      | float      | NO   |     | NULL    |                |\n",
    "| order_item_product_price | float      | NO   |     | NULL    |                |\n",
    "+--------------------------+------------+------+-----+---------+----------------+\n",
    "```"
   ]
  },
  {
   "cell_type": "markdown",
   "metadata": {},
   "source": [
    "## 2. Creating the Spark Session:"
   ]
  },
  {
   "cell_type": "code",
   "execution_count": 1,
   "metadata": {
    "collapsed": true
   },
   "outputs": [],
   "source": [
    "import org.apache.spark.sql.types._\n",
    "import org.apache.spark.sql.functions._"
   ]
  },
  {
   "cell_type": "code",
   "execution_count": 2,
   "metadata": {},
   "outputs": [
    {
     "data": {
      "text/plain": [
       "spark = org.apache.spark.sql.SparkSession@58d3061d\n"
      ]
     },
     "metadata": {},
     "output_type": "display_data"
    },
    {
     "data": {
      "text/html": [
       "<ul>\n",
       "<li><a href=\"Some(http://ip-172-30-2-158.ec2.internal:4040)\" target=\"new_tab\">Spark UI: local-1527829573002</a></li>\n",
       "</ul>"
      ],
      "text/plain": [
       "Spark local-1527829573002: Some(http://ip-172-30-2-158.ec2.internal:4040)"
      ]
     },
     "execution_count": 2,
     "metadata": {},
     "output_type": "execute_result"
    }
   ],
   "source": [
    "val spark = (SparkSession\n",
    "         .builder\n",
    "         .master(\"local[*]\")\n",
    "         .appName(\"retail_database_analysis_scala\")\n",
    "         .getOrCreate())"
   ]
  },
  {
   "cell_type": "code",
   "execution_count": 3,
   "metadata": {},
   "outputs": [
    {
     "data": {
      "text/plain": [
       "sc = org.apache.spark.SparkContext@107efb5b\n",
       "sqlContext = org.apache.spark.sql.SQLContext@52174c1b\n"
      ]
     },
     "metadata": {},
     "output_type": "display_data"
    },
    {
     "data": {
      "text/plain": [
       "org.apache.spark.sql.SQLContext@52174c1b"
      ]
     },
     "execution_count": 3,
     "metadata": {},
     "output_type": "execute_result"
    }
   ],
   "source": [
    "val sc = spark.sparkContext\n",
    "val sqlContext = spark.sqlContext"
   ]
  },
  {
   "cell_type": "code",
   "execution_count": 4,
   "metadata": {
    "collapsed": true
   },
   "outputs": [],
   "source": [
    "import sqlContext.implicits._"
   ]
  },
  {
   "cell_type": "markdown",
   "metadata": {},
   "source": [
    "## 3. Load the Data From Files Into DataFrames:"
   ]
  },
  {
   "cell_type": "code",
   "execution_count": 5,
   "metadata": {},
   "outputs": [
    {
     "data": {
      "text/plain": [
       "CUSTOMERS_DATA = data/customers.csv\n",
       "DEPARTMENTS_DATA = data/departments.csv\n",
       "CATEGORIES_DATA = data/categories.csv\n",
       "PRODUCTS_DATA = data/products.csv\n",
       "ORDERS_DATA = data/orders.csv\n",
       "ORDER_ITEMS_DATA = data/order_items.csv\n"
      ]
     },
     "metadata": {},
     "output_type": "display_data"
    },
    {
     "data": {
      "text/plain": [
       "data/order_items.csv"
      ]
     },
     "execution_count": 5,
     "metadata": {},
     "output_type": "execute_result"
    }
   ],
   "source": [
    "val CUSTOMERS_DATA   = \"data/customers.csv\"\n",
    "val DEPARTMENTS_DATA = \"data/departments.csv\"\n",
    "val CATEGORIES_DATA  = \"data/categories.csv\"\n",
    "val PRODUCTS_DATA    = \"data/products.csv\"\n",
    "val ORDERS_DATA      = \"data/orders.csv\"\n",
    "val ORDER_ITEMS_DATA = \"data/order_items.csv\""
   ]
  },
  {
   "cell_type": "code",
   "execution_count": 6,
   "metadata": {
    "scrolled": true
   },
   "outputs": [
    {
     "data": {
      "text/plain": [
       "customers_schema = StructType(StructField(customer_id,IntegerType,true), StructField(customer_fname,StringType,true), StructField(customer_lname,StringType,true), StructField(customer_email,StringType,true), StructField(customer_password,StringType,true), StructField(customer_street,StringType,true), StructField(customer_city,StringType,true), StructField(customer_state,StringType,true), StructField(customer_zipcode,StringType,true))\n"
      ]
     },
     "metadata": {},
     "output_type": "display_data"
    },
    {
     "data": {
      "text/plain": [
       "StructType(StructField(customer_id,IntegerType,true), StructField(customer_fname,StringType,true), StructField(customer_lname,StringType,true), StructField(customer_email,StringType,true), StructField(customer_password,StringType,true), StructField(customer_street,StringType,true), StructField(customer_city,StringType,true), StructField(customer_state,StringType,true), StructField(customer_zipcode,StringType,true))"
      ]
     },
     "execution_count": 6,
     "metadata": {},
     "output_type": "execute_result"
    }
   ],
   "source": [
    "val customers_schema = StructType(Array(\n",
    "    StructField(\"customer_id\", IntegerType, true),\n",
    "    StructField(\"customer_fname\", StringType, true),\n",
    "    StructField(\"customer_lname\", StringType, true),\n",
    "    StructField(\"customer_email\", StringType, true),\n",
    "    StructField(\"customer_password\", StringType, true),\n",
    "    StructField(\"customer_street\", StringType, true),\n",
    "    StructField(\"customer_city\", StringType, true),\n",
    "    StructField(\"customer_state\", StringType, true),\n",
    "    StructField(\"customer_zipcode\", StringType, true)))"
   ]
  },
  {
   "cell_type": "code",
   "execution_count": 7,
   "metadata": {},
   "outputs": [
    {
     "data": {
      "text/plain": [
       "departments_schema = StructType(StructField(department_id,IntegerType,true), StructField(department_name,StringType,true))\n"
      ]
     },
     "metadata": {},
     "output_type": "display_data"
    },
    {
     "data": {
      "text/plain": [
       "StructType(StructField(department_id,IntegerType,true), StructField(department_name,StringType,true))"
      ]
     },
     "execution_count": 7,
     "metadata": {},
     "output_type": "execute_result"
    }
   ],
   "source": [
    "val departments_schema = StructType(Array(\n",
    "    StructField(\"department_id\", IntegerType, true),\n",
    "    StructField(\"department_name\", StringType, true)))"
   ]
  },
  {
   "cell_type": "code",
   "execution_count": 8,
   "metadata": {},
   "outputs": [
    {
     "data": {
      "text/plain": [
       "categories_schema = StructType(StructField(category_id,IntegerType,true), StructField(category_department_id,IntegerType,true), StructField(category_name,StringType,true))\n"
      ]
     },
     "metadata": {},
     "output_type": "display_data"
    },
    {
     "data": {
      "text/plain": [
       "StructType(StructField(category_id,IntegerType,true), StructField(category_department_id,IntegerType,true), StructField(category_name,StringType,true))"
      ]
     },
     "execution_count": 8,
     "metadata": {},
     "output_type": "execute_result"
    }
   ],
   "source": [
    "val categories_schema = StructType(Array(\n",
    "    StructField(\"category_id\", IntegerType, true),\n",
    "    StructField(\"category_department_id\", IntegerType, true),\n",
    "    StructField(\"category_name\", StringType, true)))"
   ]
  },
  {
   "cell_type": "code",
   "execution_count": 9,
   "metadata": {},
   "outputs": [
    {
     "data": {
      "text/plain": [
       "products_schema = StructType(StructField(product_id,IntegerType,true), StructField(product_category_id,IntegerType,true), StructField(product_name,StringType,true), StructField(product_description,StringType,true), StructField(product_price,FloatType,true), StructField(product_image,StringType,true))\n"
      ]
     },
     "metadata": {},
     "output_type": "display_data"
    },
    {
     "data": {
      "text/plain": [
       "StructType(StructField(product_id,IntegerType,true), StructField(product_category_id,IntegerType,true), StructField(product_name,StringType,true), StructField(product_description,StringType,true), StructField(product_price,FloatType,true), StructField(product_image,StringType,true))"
      ]
     },
     "execution_count": 9,
     "metadata": {},
     "output_type": "execute_result"
    }
   ],
   "source": [
    "val products_schema = StructType(Array(\n",
    "    StructField(\"product_id\", IntegerType, true),\n",
    "    StructField(\"product_category_id\", IntegerType, true),\n",
    "    StructField(\"product_name\", StringType, true),\n",
    "    StructField(\"product_description\", StringType, true),\n",
    "    StructField(\"product_price\", FloatType, true),\n",
    "    StructField(\"product_image\", StringType, true)))"
   ]
  },
  {
   "cell_type": "code",
   "execution_count": 10,
   "metadata": {},
   "outputs": [
    {
     "data": {
      "text/plain": [
       "orders_schema = StructType(StructField(order_id,IntegerType,true), StructField(order_date,StringType,true), StructField(order_customer_id,IntegerType,true), StructField(order_status,StringType,true))\n"
      ]
     },
     "metadata": {},
     "output_type": "display_data"
    },
    {
     "data": {
      "text/plain": [
       "StructType(StructField(order_id,IntegerType,true), StructField(order_date,StringType,true), StructField(order_customer_id,IntegerType,true), StructField(order_status,StringType,true))"
      ]
     },
     "execution_count": 10,
     "metadata": {},
     "output_type": "execute_result"
    }
   ],
   "source": [
    "val orders_schema = StructType(Array(\n",
    "    StructField(\"order_id\", IntegerType, true),\n",
    "    StructField(\"order_date\", StringType, true),\n",
    "    StructField(\"order_customer_id\", IntegerType, true),\n",
    "    StructField(\"order_status\", StringType, true)))"
   ]
  },
  {
   "cell_type": "code",
   "execution_count": 11,
   "metadata": {},
   "outputs": [
    {
     "data": {
      "text/plain": [
       "order_items_schema = StructType(StructField(order_item_id,IntegerType,true), StructField(order_item_order_id,IntegerType,true), StructField(order_item_product_id,IntegerType,true), StructField(order_item_quantity,IntegerType,true), StructField(order_item_subtotal,FloatType,true), StructField(order_item_product_price,FloatType,true))\n"
      ]
     },
     "metadata": {},
     "output_type": "display_data"
    },
    {
     "data": {
      "text/plain": [
       "StructType(StructField(order_item_id,IntegerType,true), StructField(order_item_order_id,IntegerType,true), StructField(order_item_product_id,IntegerType,true), StructField(order_item_quantity,IntegerType,true), StructField(order_item_subtotal,FloatType,true), StructField(order_item_product_price,FloatType,true))"
      ]
     },
     "execution_count": 11,
     "metadata": {},
     "output_type": "execute_result"
    }
   ],
   "source": [
    "val order_items_schema = StructType(Array(\n",
    "    StructField(\"order_item_id\", IntegerType, true),\n",
    "    StructField(\"order_item_order_id\", IntegerType, true),\n",
    "    StructField(\"order_item_product_id\", IntegerType, true),\n",
    "    StructField(\"order_item_quantity\", IntegerType, true),\n",
    "    StructField(\"order_item_subtotal\", FloatType, true),\n",
    "    StructField(\"order_item_product_price\", FloatType, true)))"
   ]
  },
  {
   "cell_type": "code",
   "execution_count": 12,
   "metadata": {},
   "outputs": [
    {
     "data": {
      "text/plain": [
       "customers_df = [customer_id: int, customer_fname: string ... 7 more fields]\n",
       "departments_df = [department_id: int, department_name: string]\n",
       "categories_df = [category_id: int, category_department_id: int ... 1 more field]\n",
       "products_df = [product_id: int, product_category_id: int ... 4 more fields]\n",
       "orders_df = [order_id: int, order_date: string ... 2 more fields]\n",
       "order_items_df = [order_item_id: int, order_item_order_id: int ... 4 more fields]\n"
      ]
     },
     "metadata": {},
     "output_type": "display_data"
    },
    {
     "data": {
      "text/plain": [
       "[order_item_id: int, order_item_order_id: int ... 4 more fields]"
      ]
     },
     "execution_count": 12,
     "metadata": {},
     "output_type": "execute_result"
    }
   ],
   "source": [
    "val customers_df   = spark.read.format(\"csv\").schema(customers_schema).load(CUSTOMERS_DATA).cache()\n",
    "val departments_df = spark.read.format(\"csv\").schema(departments_schema).load(DEPARTMENTS_DATA).cache()\n",
    "val categories_df  = spark.read.format(\"csv\").schema(categories_schema).load(CATEGORIES_DATA).cache()\n",
    "val products_df    = spark.read.format(\"csv\").schema(products_schema).load(PRODUCTS_DATA).cache()\n",
    "val orders_df      = spark.read.format(\"csv\").schema(orders_schema).load(ORDERS_DATA).cache()\n",
    "val order_items_df = spark.read.format(\"csv\").schema(order_items_schema).load(ORDER_ITEMS_DATA).cache()"
   ]
  },
  {
   "cell_type": "markdown",
   "metadata": {},
   "source": [
    "### 3.1. Register all the DataFrames as Temporary Views:"
   ]
  },
  {
   "cell_type": "code",
   "execution_count": 13,
   "metadata": {
    "collapsed": true
   },
   "outputs": [],
   "source": [
    "customers_df.createOrReplaceTempView(\"customers\")"
   ]
  },
  {
   "cell_type": "code",
   "execution_count": 14,
   "metadata": {},
   "outputs": [
    {
     "name": "stdout",
     "output_type": "stream",
     "text": [
      "+-----------+--------------+-------------+--------------+\n",
      "|customer_id|customer_fname|customer_city|customer_state|\n",
      "+-----------+--------------+-------------+--------------+\n",
      "|          1|       Richard|  Brownsville|            TX|\n",
      "|          2|          Mary|    Littleton|            CO|\n",
      "|          3|           Ann|       Caguas|            PR|\n",
      "|          4|          Mary|   San Marcos|            CA|\n",
      "|          5|        Robert|       Caguas|            PR|\n",
      "+-----------+--------------+-------------+--------------+\n",
      "only showing top 5 rows\n",
      "\n"
     ]
    }
   ],
   "source": [
    "customers_df.select(col(\"customer_id\"), $\"customer_fname\", $\"customer_city\", col(\"customer_state\")).show(5)"
   ]
  },
  {
   "cell_type": "code",
   "execution_count": 15,
   "metadata": {
    "collapsed": true
   },
   "outputs": [],
   "source": [
    "departments_df.createOrReplaceTempView(\"departments\")"
   ]
  },
  {
   "cell_type": "code",
   "execution_count": 16,
   "metadata": {},
   "outputs": [
    {
     "name": "stdout",
     "output_type": "stream",
     "text": [
      "+-------------+---------------+\n",
      "|department_id|department_name|\n",
      "+-------------+---------------+\n",
      "|            2|        Fitness|\n",
      "|            3|       Footwear|\n",
      "|            4|        Apparel|\n",
      "|            5|           Golf|\n",
      "|            6|       Outdoors|\n",
      "+-------------+---------------+\n",
      "only showing top 5 rows\n",
      "\n"
     ]
    }
   ],
   "source": [
    "departments_df.show(5)"
   ]
  },
  {
   "cell_type": "code",
   "execution_count": 17,
   "metadata": {
    "collapsed": true
   },
   "outputs": [],
   "source": [
    "categories_df.createOrReplaceTempView(\"categories\")"
   ]
  },
  {
   "cell_type": "code",
   "execution_count": 18,
   "metadata": {},
   "outputs": [
    {
     "name": "stdout",
     "output_type": "stream",
     "text": [
      "+-----------+----------------------+-------------------+\n",
      "|category_id|category_department_id|      category_name|\n",
      "+-----------+----------------------+-------------------+\n",
      "|          1|                     2|           Football|\n",
      "|          2|                     2|             Soccer|\n",
      "|          3|                     2|Baseball & Softball|\n",
      "|          4|                     2|         Basketball|\n",
      "|          5|                     2|           Lacrosse|\n",
      "+-----------+----------------------+-------------------+\n",
      "only showing top 5 rows\n",
      "\n"
     ]
    }
   ],
   "source": [
    "categories_df.show(5)"
   ]
  },
  {
   "cell_type": "code",
   "execution_count": 19,
   "metadata": {
    "collapsed": true
   },
   "outputs": [],
   "source": [
    "products_df.createOrReplaceTempView(\"products\")"
   ]
  },
  {
   "cell_type": "code",
   "execution_count": 20,
   "metadata": {},
   "outputs": [
    {
     "name": "stdout",
     "output_type": "stream",
     "text": [
      "+----------+-------------------+--------------------+-------------------+-------------+--------------------+\n",
      "|product_id|product_category_id|        product_name|product_description|product_price|       product_image|\n",
      "+----------+-------------------+--------------------+-------------------+-------------+--------------------+\n",
      "|         1|                  2|Quest Q64 10 FT. ...|               null|        59.98|http://images.acm...|\n",
      "|         2|                  2|Under Armour Men'...|               null|       129.99|http://images.acm...|\n",
      "|         3|                  2|Under Armour Men'...|               null|        89.99|http://images.acm...|\n",
      "|         4|                  2|Under Armour Men'...|               null|        89.99|http://images.acm...|\n",
      "|         5|                  2|Riddell Youth Rev...|               null|       199.99|http://images.acm...|\n",
      "+----------+-------------------+--------------------+-------------------+-------------+--------------------+\n",
      "only showing top 5 rows\n",
      "\n"
     ]
    }
   ],
   "source": [
    "products_df.show(5)"
   ]
  },
  {
   "cell_type": "code",
   "execution_count": 21,
   "metadata": {
    "collapsed": true
   },
   "outputs": [],
   "source": [
    "orders_df.createOrReplaceTempView(\"orders\")"
   ]
  },
  {
   "cell_type": "code",
   "execution_count": 22,
   "metadata": {},
   "outputs": [
    {
     "name": "stdout",
     "output_type": "stream",
     "text": [
      "+--------+--------------------+-----------------+---------------+\n",
      "|order_id|          order_date|order_customer_id|   order_status|\n",
      "+--------+--------------------+-----------------+---------------+\n",
      "|       1|2013-07-25 00:00:...|            11599|         CLOSED|\n",
      "|       2|2013-07-25 00:00:...|              256|PENDING_PAYMENT|\n",
      "|       3|2013-07-25 00:00:...|            12111|       COMPLETE|\n",
      "|       4|2013-07-25 00:00:...|             8827|         CLOSED|\n",
      "|       5|2013-07-25 00:00:...|            11318|       COMPLETE|\n",
      "+--------+--------------------+-----------------+---------------+\n",
      "only showing top 5 rows\n",
      "\n"
     ]
    }
   ],
   "source": [
    "orders_df.show(5)"
   ]
  },
  {
   "cell_type": "code",
   "execution_count": 23,
   "metadata": {
    "collapsed": true
   },
   "outputs": [],
   "source": [
    "order_items_df.createOrReplaceTempView(\"order_items\")"
   ]
  },
  {
   "cell_type": "code",
   "execution_count": 24,
   "metadata": {},
   "outputs": [
    {
     "name": "stdout",
     "output_type": "stream",
     "text": [
      "+-------------+-------------------+---------------------+-------------------+-------------------+------------------------+\n",
      "|order_item_id|order_item_order_id|order_item_product_id|order_item_quantity|order_item_subtotal|order_item_product_price|\n",
      "+-------------+-------------------+---------------------+-------------------+-------------------+------------------------+\n",
      "|            1|                  1|                  957|                  1|             299.98|                  299.98|\n",
      "|            2|                  2|                 1073|                  1|             199.99|                  199.99|\n",
      "|            3|                  2|                  502|                  5|              250.0|                    50.0|\n",
      "|            4|                  2|                  403|                  1|             129.99|                  129.99|\n",
      "|            5|                  4|                  897|                  2|              49.98|                   24.99|\n",
      "+-------------+-------------------+---------------------+-------------------+-------------------+------------------------+\n",
      "only showing top 5 rows\n",
      "\n"
     ]
    }
   ],
   "source": [
    "order_items_df.show(5)"
   ]
  },
  {
   "cell_type": "markdown",
   "metadata": {},
   "source": [
    "## 4. Data Analysis:"
   ]
  },
  {
   "cell_type": "markdown",
   "metadata": {},
   "source": [
    "### 4.1 Get How many Orders were placed:\n",
    "\n",
    "**SQL:**"
   ]
  },
  {
   "cell_type": "code",
   "execution_count": 25,
   "metadata": {},
   "outputs": [
    {
     "name": "stdout",
     "output_type": "stream",
     "text": [
      "+--------+\n",
      "|count(1)|\n",
      "+--------+\n",
      "|   68883|\n",
      "+--------+\n",
      "\n"
     ]
    }
   ],
   "source": [
    "spark.sql(\"select count(1) from orders\").show()"
   ]
  },
  {
   "cell_type": "markdown",
   "metadata": {},
   "source": [
    "**DF API:**"
   ]
  },
  {
   "cell_type": "code",
   "execution_count": 26,
   "metadata": {},
   "outputs": [
    {
     "data": {
      "text/plain": [
       "68883"
      ]
     },
     "execution_count": 26,
     "metadata": {},
     "output_type": "execute_result"
    }
   ],
   "source": [
    "orders_df.count()"
   ]
  },
  {
   "cell_type": "markdown",
   "metadata": {},
   "source": [
    "### 4.2 Get Average Revenue Per Order:\n",
    "\n",
    "**SQL:**"
   ]
  },
  {
   "cell_type": "code",
   "execution_count": 27,
   "metadata": {},
   "outputs": [
    {
     "name": "stdout",
     "output_type": "stream",
     "text": [
      "+-----------------+\n",
      "|avg_rev_per_order|\n",
      "+-----------------+\n",
      "|597.6322996016944|\n",
      "+-----------------+\n",
      "\n"
     ]
    }
   ],
   "source": [
    "spark.sql(\"\"\"\n",
    "          SELECT sum(oi.order_item_subtotal) / count(distinct oi.order_item_order_id) as avg_rev_per_order\n",
    "          |FROM orders o JOIN order_items oi \n",
    "          |    ON o.order_id = oi.order_item_order_id\n",
    "        \"\"\").show()"
   ]
  },
  {
   "cell_type": "markdown",
   "metadata": {},
   "source": [
    "**DF API:**"
   ]
  },
  {
   "cell_type": "code",
   "execution_count": 28,
   "metadata": {},
   "outputs": [
    {
     "name": "stdout",
     "output_type": "stream",
     "text": [
      "+-----------------+\n",
      "|avg_rev_per_order|\n",
      "+-----------------+\n",
      "|597.6322996016944|\n",
      "+-----------------+\n",
      "\n"
     ]
    }
   ],
   "source": [
    "(orders_df.join(order_items_df,orders_df(\"order_id\") === order_items_df(\"order_item_order_id\"))\n",
    "    .select(\"order_item_subtotal\",\"order_item_order_id\")\n",
    "    .agg((sum(col(\"order_item_subtotal\"))/countDistinct(col(\"order_item_order_id\"))).alias(\"avg_rev_per_order\"))\n",
    "    .show())"
   ]
  },
  {
   "cell_type": "markdown",
   "metadata": {},
   "source": [
    "### 4.3 Get Average Revenue Per Day:\n",
    "\n",
    "**SQL:**"
   ]
  },
  {
   "cell_type": "code",
   "execution_count": 29,
   "metadata": {},
   "outputs": [
    {
     "name": "stdout",
     "output_type": "stream",
     "text": [
      "+---------------------+-----------------+\n",
      "|order_date           |avg_rev_per_day  |\n",
      "+---------------------+-----------------+\n",
      "|2013-07-25 00:00:00.0|587.5330286848134|\n",
      "|2013-07-26 00:00:00.0|585.9234878147109|\n",
      "|2013-07-27 00:00:00.0|577.5676682063512|\n",
      "|2013-07-28 00:00:00.0|551.4119109020958|\n",
      "|2013-07-29 00:00:00.0|635.5883909684641|\n",
      "|2013-07-30 00:00:00.0|564.5363838698838|\n",
      "|2013-07-31 00:00:00.0|630.9955146643533|\n",
      "|2013-08-01 00:00:00.0|608.4982189502356|\n",
      "|2013-08-02 00:00:00.0|587.8871075517388|\n",
      "|2013-08-03 00:00:00.0|599.1628419048382|\n",
      "|2013-08-04 00:00:00.0|594.3201416863335|\n",
      "|2013-08-05 00:00:00.0|592.8305590897799|\n",
      "|2013-08-06 00:00:00.0|579.68106844792  |\n",
      "|2013-08-07 00:00:00.0|583.906170096101 |\n",
      "|2013-08-08 00:00:00.0|588.4743191939134|\n",
      "|2013-08-09 00:00:00.0|629.4593056380147|\n",
      "|2013-08-10 00:00:00.0|586.3113241756664|\n",
      "|2013-08-11 00:00:00.0|551.5472206441007|\n",
      "|2013-08-12 00:00:00.0|612.4790563343757|\n",
      "|2013-08-13 00:00:00.0|604.1594044945457|\n",
      "+---------------------+-----------------+\n",
      "only showing top 20 rows\n",
      "\n"
     ]
    }
   ],
   "source": [
    "spark.sql(\n",
    "        \"\"\"SELECT o.order_date, sum(oi.order_item_subtotal) / count(distinct oi.order_item_order_id) as avg_rev_per_day\n",
    "          |FROM orders o JOIN order_items oi \n",
    "          |    ON o.order_id = oi.order_item_order_id\n",
    "          |GROUP BY o.order_date \n",
    "          |ORDER BY o.order_date\n",
    "        \"\"\").show(false)"
   ]
  },
  {
   "cell_type": "markdown",
   "metadata": {},
   "source": [
    "**DF API:**"
   ]
  },
  {
   "cell_type": "code",
   "execution_count": 30,
   "metadata": {},
   "outputs": [
    {
     "data": {
      "text/plain": [
       "[order_id: int, order_date: string ... 8 more fields]"
      ]
     },
     "execution_count": 30,
     "metadata": {},
     "output_type": "execute_result"
    }
   ],
   "source": [
    "orders_df.join(order_items_df,orders_df(\"order_id\") === order_items_df(\"order_item_order_id\"))"
   ]
  },
  {
   "cell_type": "code",
   "execution_count": 31,
   "metadata": {},
   "outputs": [
    {
     "data": {
      "text/plain": [
       "avg_rev_per_day = [order_date: string, avg_rev_per_day: double]\n"
      ]
     },
     "metadata": {},
     "output_type": "display_data"
    },
    {
     "data": {
      "text/plain": [
       "[order_date: string, avg_rev_per_day: double]"
      ]
     },
     "execution_count": 31,
     "metadata": {},
     "output_type": "execute_result"
    }
   ],
   "source": [
    "val avg_rev_per_day = orders_df.join(order_items_df,orders_df(\"order_id\") === order_items_df(\"order_item_order_id\"))\n",
    "     .select(\"order_date\",\"order_item_subtotal\",\"order_item_order_id\")\n",
    "     .groupBy(\"order_date\")\n",
    "     .agg((sum(col(\"order_item_subtotal\"))/countDistinct(col(\"order_item_order_id\"))).alias(\"avg_rev_per_day\"))\n",
    "     .orderBy(\"order_date\").cache()"
   ]
  },
  {
   "cell_type": "code",
   "execution_count": 32,
   "metadata": {},
   "outputs": [
    {
     "name": "stdout",
     "output_type": "stream",
     "text": [
      "+---------------------+-----------------+\n",
      "|order_date           |avg_rev_per_day  |\n",
      "+---------------------+-----------------+\n",
      "|2013-07-25 00:00:00.0|587.5330286848134|\n",
      "|2013-07-26 00:00:00.0|585.9234878147109|\n",
      "|2013-07-27 00:00:00.0|577.5676682063512|\n",
      "|2013-07-28 00:00:00.0|551.4119109020958|\n",
      "|2013-07-29 00:00:00.0|635.5883909684641|\n",
      "|2013-07-30 00:00:00.0|564.5363838698838|\n",
      "|2013-07-31 00:00:00.0|630.9955146643533|\n",
      "|2013-08-01 00:00:00.0|608.4982189502356|\n",
      "|2013-08-02 00:00:00.0|587.8871075517388|\n",
      "|2013-08-03 00:00:00.0|599.1628419048382|\n",
      "|2013-08-04 00:00:00.0|594.3201416863335|\n",
      "|2013-08-05 00:00:00.0|592.8305590897799|\n",
      "|2013-08-06 00:00:00.0|579.68106844792  |\n",
      "|2013-08-07 00:00:00.0|583.906170096101 |\n",
      "|2013-08-08 00:00:00.0|588.4743191939134|\n",
      "|2013-08-09 00:00:00.0|629.4593056380147|\n",
      "|2013-08-10 00:00:00.0|586.3113241756664|\n",
      "|2013-08-11 00:00:00.0|551.5472206441007|\n",
      "|2013-08-12 00:00:00.0|612.4790563343757|\n",
      "|2013-08-13 00:00:00.0|604.1594044945457|\n",
      "+---------------------+-----------------+\n",
      "only showing top 20 rows\n",
      "\n"
     ]
    }
   ],
   "source": [
    "avg_rev_per_day.show(false)"
   ]
  },
  {
   "cell_type": "markdown",
   "metadata": {},
   "source": [
    "### 4.3.1 Get Average Revenue Per Month:\n",
    "\n",
    "**DF API:**"
   ]
  },
  {
   "cell_type": "code",
   "execution_count": 33,
   "metadata": {},
   "outputs": [
    {
     "data": {
      "text/plain": [
       "avg_rev_per_month = [month: int, avg_rev_per_month: double]\n"
      ]
     },
     "metadata": {},
     "output_type": "display_data"
    },
    {
     "data": {
      "text/plain": [
       "[month: int, avg_rev_per_month: double]"
      ]
     },
     "execution_count": 33,
     "metadata": {},
     "output_type": "execute_result"
    }
   ],
   "source": [
    "val avg_rev_per_month = avg_rev_per_day\n",
    "                        .select(month(col(\"order_date\")).alias(\"month\"),col(\"avg_rev_per_day\"))\n",
    "                        .groupBy(\"month\")\n",
    "                        .agg(avg(col(\"avg_rev_per_day\")).alias(\"avg_rev_per_month\"))\n",
    "                        .orderBy(\"month\").cache()                    "
   ]
  },
  {
   "cell_type": "code",
   "execution_count": 34,
   "metadata": {},
   "outputs": [
    {
     "name": "stdout",
     "output_type": "stream",
     "text": [
      "+-----+-----------------+\n",
      "|month|avg_rev_per_month|\n",
      "+-----+-----------------+\n",
      "|1    |595.4252200140596|\n",
      "|2    |594.3819554505748|\n",
      "|3    |601.5593062028504|\n",
      "|4    |594.360451299625 |\n",
      "|5    |606.5245105647007|\n",
      "|6    |611.6376611446879|\n",
      "|7    |593.4468831474544|\n",
      "|8    |597.588355427047 |\n",
      "|9    |604.5177239484814|\n",
      "|10   |590.8111000351574|\n",
      "|11   |597.1851199455583|\n",
      "|12   |596.4810251733772|\n",
      "+-----+-----------------+\n",
      "\n"
     ]
    }
   ],
   "source": [
    "avg_rev_per_month.show(false)"
   ]
  },
  {
   "cell_type": "markdown",
   "metadata": {},
   "source": [
    "### 4.3.2 Get Total Revenue Per Month Per Year:\n",
    "\n",
    "**SQL:**"
   ]
  },
  {
   "cell_type": "code",
   "execution_count": 35,
   "metadata": {},
   "outputs": [
    {
     "name": "stdout",
     "output_type": "stream",
     "text": [
      "+----------+-----------+------------------+\n",
      "|order_year|order_month|tot_revenue       |\n",
      "+----------+-----------+------------------+\n",
      "|2013      |7          |764782.2047252655 |\n",
      "|2013      |8          |2828658.754573822 |\n",
      "|2013      |9          |2934527.3265972137|\n",
      "|2013      |10         |2624600.6605644226|\n",
      "|2013      |11         |3168656.0921707153|\n",
      "|2013      |12         |2932964.327445984 |\n",
      "|2014      |1          |2924447.0670757294|\n",
      "|2014      |2          |2778663.7149181366|\n",
      "|2014      |3          |2862492.265932083 |\n",
      "|2014      |4          |2807789.8547916412|\n",
      "|2014      |5          |2753078.2738227844|\n",
      "|2014      |6          |2703463.491306305 |\n",
      "|2014      |7          |2238496.5645008087|\n",
      "+----------+-----------+------------------+\n",
      "\n"
     ]
    }
   ],
   "source": [
    "spark.sql(\n",
    "        \"\"\"SELECT year(o.order_date) as order_year, month(o.order_date) as order_month, sum(oi.order_item_subtotal) tot_revenue \n",
    "          |FROM orders o JOIN order_items oi \n",
    "          |    ON o.order_id = oi.order_item_order_id\n",
    "          |GROUP BY order_year, order_month \n",
    "          |ORDER BY order_year, order_month\n",
    "        \"\"\").show(false)"
   ]
  },
  {
   "cell_type": "markdown",
   "metadata": {},
   "source": [
    "**DF API:**"
   ]
  },
  {
   "cell_type": "code",
   "execution_count": 36,
   "metadata": {},
   "outputs": [
    {
     "data": {
      "text/plain": [
       "tot_rev_per_month_per_year = [order_year: int, order_month: int ... 1 more field]\n"
      ]
     },
     "metadata": {},
     "output_type": "display_data"
    },
    {
     "data": {
      "text/plain": [
       "[order_year: int, order_month: int ... 1 more field]"
      ]
     },
     "execution_count": 36,
     "metadata": {},
     "output_type": "execute_result"
    }
   ],
   "source": [
    "val tot_rev_per_month_per_year = orders_df.join(order_items_df,orders_df(\"order_id\") === order_items_df(\"order_item_order_id\"))\n",
    "                                .select(year(col(\"order_date\")).alias(\"order_year\"),\n",
    "                                        month(col(\"order_date\")).alias(\"order_month\"),\n",
    "                                        col(\"order_item_subtotal\"))\n",
    "                                .groupBy(\"order_year\", \"order_month\")\n",
    "                                .agg(sum(col(\"order_item_subtotal\")).alias(\"tot_revenue\"))\n",
    "                                .orderBy(\"order_year\", \"order_month\")\n",
    "                                .cache()"
   ]
  },
  {
   "cell_type": "code",
   "execution_count": 37,
   "metadata": {},
   "outputs": [
    {
     "name": "stdout",
     "output_type": "stream",
     "text": [
      "+----------+-----------+------------------+\n",
      "|order_year|order_month|       tot_revenue|\n",
      "+----------+-----------+------------------+\n",
      "|      2013|          7| 764782.2047252655|\n",
      "|      2013|          8| 2828658.754573822|\n",
      "|      2013|          9|2934527.3265972137|\n",
      "|      2013|         10|2624600.6605644226|\n",
      "|      2013|         11|3168656.0921707153|\n",
      "|      2013|         12| 2932964.327445984|\n",
      "|      2014|          1|2924447.0670757294|\n",
      "|      2014|          2|2778663.7149181366|\n",
      "|      2014|          3| 2862492.265932083|\n",
      "|      2014|          4|2807789.8547916412|\n",
      "|      2014|          5|2753078.2738227844|\n",
      "|      2014|          6| 2703463.491306305|\n",
      "|      2014|          7|2238496.5645008087|\n",
      "+----------+-----------+------------------+\n",
      "\n"
     ]
    }
   ],
   "source": [
    "tot_rev_per_month_per_year.show()"
   ]
  },
  {
   "cell_type": "markdown",
   "metadata": {},
   "source": [
    "### 4.4 Top Performing Departments:\n",
    "\n",
    "**SQL:**"
   ]
  },
  {
   "cell_type": "code",
   "execution_count": 38,
   "metadata": {},
   "outputs": [
    {
     "name": "stdout",
     "output_type": "stream",
     "text": [
      "+---------------+----------+------------------+\n",
      "|department_name|order_year|tot_revenue       |\n",
      "+---------------+----------+------------------+\n",
      "|Apparel        |2013      |3090985.6535224915|\n",
      "|Apparel        |2014      |3917585.841217041 |\n",
      "|Fan Shop       |2013      |7290831.879999161 |\n",
      "|Fan Shop       |2014      |9095735.77280426  |\n",
      "|Fitness        |2013      |119526.58082199097|\n",
      "|Fitness        |2014      |150509.1409931183 |\n",
      "|Footwear       |2013      |1711492.5186824799|\n",
      "|Footwear       |2014      |2122339.649032593 |\n",
      "|Golf           |2013      |1967396.959728241 |\n",
      "|Golf           |2014      |2440585.2815055847|\n",
      "|Outdoors       |2013      |420317.9507675171 |\n",
      "|Outdoors       |2014      |532437.6709976196 |\n",
      "+---------------+----------+------------------+\n",
      "\n"
     ]
    }
   ],
   "source": [
    "spark.sql(\n",
    "        \"\"\"SELECT d.department_name, year(o.order_date) as order_year, sum(oi.order_item_subtotal) as tot_revenue\n",
    "          |FROM orders o \n",
    "          |    INNER JOIN order_items oi \n",
    "          |        ON o.order_id = oi.order_item_order_id\n",
    "          |    INNER JOIN products p\n",
    "          |        ON oi.order_item_product_id = p.product_id\n",
    "          |    INNER JOIN categories c\n",
    "          |        ON c.category_id = p.product_category_id\n",
    "          |    INNER JOIN departments d\n",
    "          |        ON c.category_department_id = d.department_id\n",
    "          |WHERE o.order_status <> 'CANCELED' AND o.order_status <> 'SUSPECTED_FRAUD'\n",
    "          |GROUP BY d.department_name, order_year\n",
    "          |ORDER BY d.department_name, order_year\n",
    "        \"\"\").show(false)"
   ]
  },
  {
   "cell_type": "markdown",
   "metadata": {},
   "source": [
    "**DF API:**"
   ]
  },
  {
   "cell_type": "code",
   "execution_count": 39,
   "metadata": {},
   "outputs": [
    {
     "data": {
      "text/plain": [
       "df = [department_name: string, order_year: int ... 1 more field]\n"
      ]
     },
     "metadata": {},
     "output_type": "display_data"
    },
    {
     "data": {
      "text/plain": [
       "[department_name: string, order_year: int ... 1 more field]"
      ]
     },
     "execution_count": 39,
     "metadata": {},
     "output_type": "execute_result"
    }
   ],
   "source": [
    "val df = orders_df\n",
    "      .filter((col(\"order_status\") =!= \"CANCELED\") && (col(\"order_status\") =!= \"SUSPECTED_FRAUD\"))\n",
    "      .join(order_items_df,orders_df(\"order_id\") === order_items_df(\"order_item_order_id\"))\n",
    "      .join(products_df,order_items_df(\"order_item_product_id\") === products_df(\"product_id\"))\n",
    "      .join(categories_df,products_df(\"product_category_id\") === categories_df(\"category_id\"))\n",
    "      .join(departments_df,categories_df(\"category_department_id\") === departments_df(\"department_id\"))\n",
    "      .select(col(\"department_name\"),year(col(\"order_date\")).alias(\"order_year\"),col(\"order_item_subtotal\"))\n",
    "      .groupBy(\"department_name\",\"order_year\")\n",
    "      .agg(sum(\"order_item_subtotal\").alias(\"tot_revenue\"))\n",
    "      .orderBy(\"department_name\",\"order_year\").cache()"
   ]
  },
  {
   "cell_type": "code",
   "execution_count": 40,
   "metadata": {},
   "outputs": [
    {
     "name": "stdout",
     "output_type": "stream",
     "text": [
      "+---------------+----------+------------------+\n",
      "|department_name|order_year|       tot_revenue|\n",
      "+---------------+----------+------------------+\n",
      "|        Apparel|      2013|3090985.6535224915|\n",
      "|        Apparel|      2014| 3917585.841217041|\n",
      "|       Fan Shop|      2013| 7290831.879999161|\n",
      "|       Fan Shop|      2014|  9095735.77280426|\n",
      "|        Fitness|      2013|119526.58082199097|\n",
      "|        Fitness|      2014| 150509.1409931183|\n",
      "|       Footwear|      2013|1711492.5186824799|\n",
      "|       Footwear|      2014| 2122339.649032593|\n",
      "|           Golf|      2013| 1967396.959728241|\n",
      "|           Golf|      2014|2440585.2815055847|\n",
      "|       Outdoors|      2013| 420317.9507675171|\n",
      "|       Outdoors|      2014| 532437.6709976196|\n",
      "+---------------+----------+------------------+\n",
      "\n"
     ]
    }
   ],
   "source": [
    "df.show()"
   ]
  },
  {
   "cell_type": "markdown",
   "metadata": {},
   "source": [
    "### 4.5 Get Highest Priced Product:\n",
    "\n",
    "**SQL:**"
   ]
  },
  {
   "cell_type": "code",
   "execution_count": 41,
   "metadata": {},
   "outputs": [
    {
     "name": "stdout",
     "output_type": "stream",
     "text": [
      "+----------+-------------------+-------------------+-------------------+-------------+--------------------+\n",
      "|product_id|product_category_id|       product_name|product_description|product_price|       product_image|\n",
      "+----------+-------------------+-------------------+-------------------+-------------+--------------------+\n",
      "|       208|                 10|SOLE E35 Elliptical|               null|      1999.99|http://images.acm...|\n",
      "+----------+-------------------+-------------------+-------------------+-------------+--------------------+\n",
      "\n"
     ]
    }
   ],
   "source": [
    "spark.sql(\n",
    "        \"\"\"SELECT p.* \n",
    "          |FROM products p\n",
    "          |WHERE p.product_price = (SELECT max(q.product_price) FROM products q)\n",
    "        \"\"\").show()"
   ]
  },
  {
   "cell_type": "markdown",
   "metadata": {},
   "source": [
    "**SQL Using rank() Window Function:**"
   ]
  },
  {
   "cell_type": "code",
   "execution_count": 42,
   "metadata": {},
   "outputs": [
    {
     "name": "stdout",
     "output_type": "stream",
     "text": [
      "+----------+-------------------+-------------------+-------------------+-------------+--------------------+----+\n",
      "|product_id|product_category_id|       product_name|product_description|product_price|       product_image|rank|\n",
      "+----------+-------------------+-------------------+-------------------+-------------+--------------------+----+\n",
      "|       208|                 10|SOLE E35 Elliptical|               null|      1999.99|http://images.acm...|   1|\n",
      "+----------+-------------------+-------------------+-------------------+-------------+--------------------+----+\n",
      "\n"
     ]
    }
   ],
   "source": [
    "spark.sql(\n",
    "        \"\"\"SELECT * \n",
    "          |FROM ( \n",
    "          |    SELECT *, \n",
    "          |         rank() OVER (ORDER BY product_price DESC) as rank\n",
    "          |    FROM products) tmp\n",
    "          |WHERE rank <= 1\n",
    "        \"\"\").show()"
   ]
  },
  {
   "cell_type": "markdown",
   "metadata": {},
   "source": [
    "**DF API:**"
   ]
  },
  {
   "cell_type": "code",
   "execution_count": 43,
   "metadata": {
    "scrolled": true
   },
   "outputs": [
    {
     "name": "stdout",
     "output_type": "stream",
     "text": [
      "+----------+-------------------+-------------------+-------------------+-------------+--------------------+\n",
      "|product_id|product_category_id|       product_name|product_description|product_price|       product_image|\n",
      "+----------+-------------------+-------------------+-------------------+-------------+--------------------+\n",
      "|       208|                 10|SOLE E35 Elliptical|               null|      1999.99|http://images.acm...|\n",
      "+----------+-------------------+-------------------+-------------------+-------------+--------------------+\n",
      "\n"
     ]
    }
   ],
   "source": [
    "products_df.filter(col(\"product_price\") === products_df.agg(max(\"product_price\")).head().getFloat(0)).show()"
   ]
  },
  {
   "cell_type": "markdown",
   "metadata": {},
   "source": [
    "**DF API Using Window Function:**"
   ]
  },
  {
   "cell_type": "code",
   "execution_count": 44,
   "metadata": {},
   "outputs": [
    {
     "data": {
      "text/plain": [
       "windowSpec = org.apache.spark.sql.expressions.WindowSpec@45002821\n"
      ]
     },
     "metadata": {},
     "output_type": "display_data"
    },
    {
     "data": {
      "text/plain": [
       "org.apache.spark.sql.expressions.WindowSpec@45002821"
      ]
     },
     "execution_count": 44,
     "metadata": {},
     "output_type": "execute_result"
    }
   ],
   "source": [
    "import org.apache.spark.sql.expressions.Window\n",
    "import org.apache.spark.sql.functions.row_number\n",
    "\n",
    "val windowSpec = Window.orderBy($\"product_price\".desc)"
   ]
  },
  {
   "cell_type": "code",
   "execution_count": 45,
   "metadata": {},
   "outputs": [
    {
     "name": "stdout",
     "output_type": "stream",
     "text": [
      "+----------+-------------------+-------------------+-------------------+-------------+--------------------+----+\n",
      "|product_id|product_category_id|       product_name|product_description|product_price|       product_image|rank|\n",
      "+----------+-------------------+-------------------+-------------------+-------------+--------------------+----+\n",
      "|       208|                 10|SOLE E35 Elliptical|               null|      1999.99|http://images.acm...|   1|\n",
      "+----------+-------------------+-------------------+-------------------+-------------+--------------------+----+\n",
      "\n"
     ]
    }
   ],
   "source": [
    "products_df.withColumn(\"rank\", row_number().over(windowSpec))\n",
    ".filter(col(\"rank\") <= 1).show()"
   ]
  },
  {
   "cell_type": "markdown",
   "metadata": {},
   "source": [
    "### 4.6 Get Highest Revenue Earning Products:\n",
    "\n",
    "**SQL:**"
   ]
  },
  {
   "cell_type": "code",
   "execution_count": 46,
   "metadata": {},
   "outputs": [
    {
     "name": "stdout",
     "output_type": "stream",
     "text": [
      "+----------+-------------------+--------------------+-------------------+-------------+--------------------+-----------------+\n",
      "|product_id|product_category_id|        product_name|product_description|product_price|       product_image|  product_revenue|\n",
      "+----------+-------------------+--------------------+-------------------+-------------+--------------------+-----------------+\n",
      "|      1004|                 45|Field & Stream Sp...|               null|       399.98|http://images.acm...|6929653.690338135|\n",
      "+----------+-------------------+--------------------+-------------------+-------------+--------------------+-----------------+\n",
      "\n"
     ]
    }
   ],
   "source": [
    "spark.sql(\n",
    "        \"\"\"SELECT p.*, r.product_revenue\n",
    "          |FROM products p, (SELECT oi.order_item_product_id, sum(CAST(oi.order_item_subtotal as float)) as product_revenue\n",
    "          |                    FROM order_items oi \n",
    "          |                    GROUP BY order_item_product_id \n",
    "          |                    ORDER BY product_revenue DESC \n",
    "          |                    LIMIT 1) r\n",
    "          |WHERE product_id = r.order_item_product_id\n",
    "        \"\"\").show()"
   ]
  },
  {
   "cell_type": "markdown",
   "metadata": {},
   "source": [
    "**SQL:**"
   ]
  },
  {
   "cell_type": "code",
   "execution_count": 47,
   "metadata": {},
   "outputs": [
    {
     "name": "stdout",
     "output_type": "stream",
     "text": [
      "+----------+-------------------+---------------------------------------------+---------------+\n",
      "|product_id|product_category_id|product_name                                 |product_revenue|\n",
      "+----------+-------------------+---------------------------------------------+---------------+\n",
      "|1004      |45                 |Field & Stream Sportsman 16 Gun Fire Safe    |6637668.28     |\n",
      "|365       |17                 |Perfect Fitness Perfect Rip Deck             |4233794.37     |\n",
      "|957       |43                 |Diamondback Women's Serene Classic Comfort Bi|3946837.0      |\n",
      "|191       |9                  |Nike Men's Free 5.0+ Running Shoe            |3507549.21     |\n",
      "|502       |24                 |Nike Men's Dri-FIT Victory Golf Polo         |3011600.0      |\n",
      "|1073      |48                 |Pelican Sunstream 100 Kayak                  |2967851.68     |\n",
      "|1014      |46                 |O'Brien Men's Neoprene Life Vest             |2765543.31     |\n",
      "|403       |18                 |Nike Men's CJ Elite 2 TD Football Cleat      |2763977.49     |\n",
      "|627       |29                 |Under Armour Girls' Toddler Spine Surge Runni|1214896.22     |\n",
      "|565       |26                 |adidas Youth Germany Black/Red Away Match Soc|63490.0        |\n",
      "+----------+-------------------+---------------------------------------------+---------------+\n",
      "\n"
     ]
    }
   ],
   "source": [
    "// Top 10 revenue generating products (another way of doing similar thing as above)\n",
    "spark.sql(\n",
    "        \"\"\"SELECT p.product_id, p.product_category_id, p.product_name, r.product_revenue\n",
    "          |FROM products p INNER JOIN\n",
    "          |                    (SELECT oi.order_item_product_id, round(sum(CAST(oi.order_item_subtotal as float)), 2) as product_revenue\n",
    "          |                     FROM order_items oi INNER JOIN orders o \n",
    "          |                         ON oi.order_item_order_id = o.order_id\n",
    "          |                     WHERE o.order_status <> 'CANCELED'\n",
    "          |                     AND o.order_status <> 'SUSPECTED_FRAUD'\n",
    "          |                     GROUP BY oi.order_item_product_id) r\n",
    "          |ON p.product_id = r.order_item_product_id\n",
    "          |ORDER BY r.product_revenue DESC\n",
    "          |LIMIT 10\n",
    "        \"\"\").show(truncate=false)"
   ]
  },
  {
   "cell_type": "markdown",
   "metadata": {},
   "source": [
    "**DF API:**"
   ]
  },
  {
   "cell_type": "code",
   "execution_count": 48,
   "metadata": {},
   "outputs": [
    {
     "name": "stdout",
     "output_type": "stream",
     "text": [
      "+----------+-------------------+--------------------+-----------------+\n",
      "|product_id|product_category_id|        product_name|  product_revenue|\n",
      "+----------+-------------------+--------------------+-----------------+\n",
      "|      1004|                 45|Field & Stream Sp...|6929653.690338135|\n",
      "+----------+-------------------+--------------------+-----------------+\n",
      "\n"
     ]
    }
   ],
   "source": [
    "/*\n",
    "# 1. Get the sum of revenue of all the products grouped by order_item_product_id from order_items table\n",
    "# 2. Sort the result in descending order of their revenues\n",
    "# 3. Take only the first one from the sorted order using the limit() function\n",
    "# 4. Join with the prorcuts column to get the product details\n",
    "*/\n",
    "order_items_df.select(\"order_item_product_id\",\"order_item_subtotal\")\n",
    "     .groupBy(\"order_item_product_id\")\n",
    "     .agg(sum(\"order_item_subtotal\").alias(\"product_revenue\"))\n",
    "     .orderBy(desc(\"product_revenue\"))\n",
    "     .limit(1)\n",
    "     .join(products_df, order_items_df(\"order_item_product_id\") === products_df(\"product_id\"))\n",
    "     .select(\"product_id\", \"product_category_id\", \"product_name\", \"product_revenue\")\n",
    "     .show()"
   ]
  },
  {
   "cell_type": "markdown",
   "metadata": {},
   "source": [
    "### 4.7 Top 5 Highest Revenue Earning Products Per Month Per Year:\n",
    "\n",
    "**SQL:**"
   ]
  },
  {
   "cell_type": "code",
   "execution_count": 49,
   "metadata": {},
   "outputs": [
    {
     "data": {
      "text/plain": [
       "UserDefinedFunction(<function1>,StringType,Some(List(IntegerType)))"
      ]
     },
     "execution_count": 49,
     "metadata": {},
     "output_type": "execute_result"
    }
   ],
   "source": [
    "// In order to use an udf with sql it needs to be registerd to sqlContext\n",
    "\n",
    "sqlContext.udf.register(\"udfmonTomonth\", ((mon: Int) => { \n",
    "    val monthmap = Map(1 -> \"Jan\",2 -> \"Feb\", 3 -> \"Mar\",4 -> \"Apr\",5 -> \"May\",6 -> \"Jun\", 7 -> \"Jul\",8 -> \"Aug\",9 -> \"Sep\",10 -> \"Oct\",11 -> \"Nov\",12 -> \"Dec\")\n",
    "        monthmap.get(mon)\n",
    "    }))"
   ]
  },
  {
   "cell_type": "code",
   "execution_count": 50,
   "metadata": {},
   "outputs": [
    {
     "name": "stdout",
     "output_type": "stream",
     "text": [
      "+----------+-----------+--------------------+---------------+----------+\n",
      "|order_year|order_month|        product_name|product_revenue|dense_rank|\n",
      "+----------+-----------+--------------------+---------------+----------+\n",
      "|      2013|        Aug|Field & Stream Sp...|      540772.97|         1|\n",
      "|      2013|        Aug|Perfect Fitness P...|      349861.69|         2|\n",
      "|      2013|        Aug|Diamondback Women...|      319778.69|         3|\n",
      "|      2013|        Aug|Nike Men's Free 5...|      279172.08|         4|\n",
      "|      2013|        Aug|Nike Men's Dri-FI...|       247700.0|         5|\n",
      "|      2013|        Dec|Field & Stream Sp...|      595570.24|         1|\n",
      "|      2013|        Dec|Perfect Fitness P...|      342842.86|         2|\n",
      "|      2013|        Dec|Diamondback Women...|      336277.59|         3|\n",
      "|      2013|        Dec|Nike Men's Free 5...|      298370.16|         4|\n",
      "|      2013|        Dec|Pelican Sunstream...|      249987.51|         5|\n",
      "|      2013|        Jul|Field & Stream Sp...|      150792.46|         1|\n",
      "|      2013|        Jul|Perfect Fitness P...|       98923.51|         2|\n",
      "|      2013|        Jul|Diamondback Women...|        92993.8|         3|\n",
      "|      2013|        Jul|Nike Men's Free 5...|       77192.28|         4|\n",
      "|      2013|        Jul|Nike Men's Dri-FI...|        64750.0|         5|\n",
      "|      2013|        Nov|Field & Stream Sp...|      605969.72|         1|\n",
      "|      2013|        Nov|Perfect Fitness P...|      384655.89|         2|\n",
      "|      2013|        Nov|Diamondback Women...|      375874.95|         3|\n",
      "|      2013|        Nov|Nike Men's Free 5...|      328567.14|         4|\n",
      "|      2013|        Nov|Nike Men's Dri-FI...|       278400.0|         5|\n",
      "+----------+-----------+--------------------+---------------+----------+\n",
      "only showing top 20 rows\n",
      "\n"
     ]
    },
    {
     "data": {
      "text/plain": [
       "df: Unit = ()\n"
      ]
     },
     "metadata": {},
     "output_type": "display_data"
    }
   ],
   "source": [
    "val df = spark.sql(\n",
    "        \"\"\"SELECT q.* \n",
    "          |FROM (\n",
    "          |     SELECT r.*, DENSE_RANK() OVER (PARTITION by order_year, order_month ORDER BY product_revenue DESC) as dense_rank\n",
    "          |     FROM (\n",
    "          |          SELECT YEAR(o.order_date) as order_year, udfmonTomonth(MONTH(o.order_date)) as order_month, p.product_name, ROUND(SUM(CAST(oi.order_item_subtotal as float)), 2) as product_revenue\n",
    "          |          FROM order_items oi \n",
    "          |              INNER JOIN orders o \n",
    "          |                  ON oi.order_item_order_id = o.order_id\n",
    "          |              INNER JOIN products p\n",
    "          |                  ON oi.order_item_product_id = p.product_id\n",
    "          |              WHERE o.order_status <> 'CANCELED' AND o.order_status <> 'SUSPECTED_FRAUD'\n",
    "          |              GROUP BY order_year, order_month, p.product_name ) r ) q\n",
    "          |WHERE q.dense_rank <= 5\n",
    "          |ORDER BY q.order_year, q.order_month, q.dense_rank\n",
    "        \"\"\").show()"
   ]
  },
  {
   "cell_type": "markdown",
   "metadata": {},
   "source": [
    "**DF API:**"
   ]
  },
  {
   "cell_type": "code",
   "execution_count": 51,
   "metadata": {},
   "outputs": [
    {
     "data": {
      "text/plain": [
       "udfmonTomonth: org.apache.spark.sql.expressions.UserDefinedFunction\n"
      ]
     },
     "metadata": {},
     "output_type": "display_data"
    }
   ],
   "source": [
    "def udfmonTomonth = udf((mon: Int) => { \n",
    "    val monthmap = Map(1 -> \"Jan\",2 -> \"Feb\", 3 -> \"Mar\",4 -> \"Apr\",5 -> \"May\",6 -> \"Jun\", 7 -> \"Jul\",8 -> \"Aug\",9 -> \"Sep\",10 -> \"Oct\",11 -> \"Nov\",12 -> \"Dec\")\n",
    "    monthmap.get(mon)\n",
    "})"
   ]
  },
  {
   "cell_type": "code",
   "execution_count": 52,
   "metadata": {},
   "outputs": [
    {
     "data": {
      "text/plain": [
       "rev_per_month_per_year_per_product = [order_year: int, order_month: string ... 2 more fields]\n"
      ]
     },
     "metadata": {},
     "output_type": "display_data"
    },
    {
     "data": {
      "text/plain": [
       "[order_year: int, order_month: string ... 2 more fields]"
      ]
     },
     "execution_count": 52,
     "metadata": {},
     "output_type": "execute_result"
    }
   ],
   "source": [
    "val rev_per_month_per_year_per_product = orders_df\n",
    "                    .select(year($\"order_date\").alias(\"order_year\"), udfmonTomonth(month($\"order_date\")).alias(\"order_month\"), $\"order_id\", $\"order_status\")\n",
    "                    .filter((col(\"order_status\") =!= \"CANCELED\") && (col(\"order_status\") =!= \"SUSPECTED_FRAUD\"))\n",
    "                    .join(order_items_df, orders_df(\"order_id\") === order_items_df(\"order_item_order_id\"))\n",
    "                    .join(products_df, order_items_df(\"order_item_product_id\") === products_df(\"product_id\"))\n",
    "                    .select(\"order_year\",\"order_month\",\"product_name\", \"order_item_subtotal\")\n",
    "                    .groupBy(\"order_year\",\"order_month\",\"product_name\")\n",
    "                    .agg(round(sum(\"order_item_subtotal\"),2).alias(\"product_revenue\"))\n",
    "                    .cache()"
   ]
  },
  {
   "cell_type": "code",
   "execution_count": 53,
   "metadata": {},
   "outputs": [
    {
     "name": "stdout",
     "output_type": "stream",
     "text": [
      "+----------+-----------+---------------------------------------------+---------------+\n",
      "|order_year|order_month|product_name                                 |product_revenue|\n",
      "+----------+-----------+---------------------------------------------+---------------+\n",
      "|2013      |Nov        |Under Armour Women's Micro G Skulpt Running S|3792.93        |\n",
      "|2013      |Oct        |Polar Loop Activity Tracker                  |329.85         |\n",
      "|2014      |Jan        |Bushnell Pro X7 Jolt Slope Rangefinder       |599.99         |\n",
      "|2013      |Aug        |Hirzl Men's Hybrid Golf Glove                |1064.29        |\n",
      "|2014      |Feb        |Titleist Small Wheeled Travel Cover          |249.99         |\n",
      "+----------+-----------+---------------------------------------------+---------------+\n",
      "only showing top 5 rows\n",
      "\n"
     ]
    }
   ],
   "source": [
    "rev_per_month_per_year_per_product.show(5,false)"
   ]
  },
  {
   "cell_type": "code",
   "execution_count": 54,
   "metadata": {},
   "outputs": [
    {
     "data": {
      "text/plain": [
       "windowSpec = org.apache.spark.sql.expressions.WindowSpec@22cdda9\n"
      ]
     },
     "metadata": {},
     "output_type": "display_data"
    },
    {
     "data": {
      "text/plain": [
       "org.apache.spark.sql.expressions.WindowSpec@22cdda9"
      ]
     },
     "execution_count": 54,
     "metadata": {},
     "output_type": "execute_result"
    }
   ],
   "source": [
    "val windowSpec = Window.partitionBy(rev_per_month_per_year_per_product(\"order_year\"),rev_per_month_per_year_per_product(\"order_month\"))\n",
    ".orderBy(rev_per_month_per_year_per_product(\"product_revenue\").desc)"
   ]
  },
  {
   "cell_type": "code",
   "execution_count": 55,
   "metadata": {},
   "outputs": [
    {
     "data": {
      "text/plain": [
       "top_prod_per_month_per_year_by_rev = [order_year: int, order_month: string ... 3 more fields]\n"
      ]
     },
     "metadata": {},
     "output_type": "display_data"
    },
    {
     "data": {
      "text/plain": [
       "[order_year: int, order_month: string ... 3 more fields]"
      ]
     },
     "execution_count": 55,
     "metadata": {},
     "output_type": "execute_result"
    }
   ],
   "source": [
    "val top_prod_per_month_per_year_by_rev = rev_per_month_per_year_per_product\n",
    "                           .withColumn(\"dense_rank\", dense_rank().over(windowSpec))\n",
    "                           .filter(col(\"dense_rank\") <= 5)\n",
    "                           .orderBy(\"order_year\", \"order_month\", \"dense_rank\")\n",
    "                           .cache()"
   ]
  },
  {
   "cell_type": "code",
   "execution_count": 56,
   "metadata": {},
   "outputs": [
    {
     "name": "stdout",
     "output_type": "stream",
     "text": [
      "+----------+-----------+---------------------------------------------+---------------+----------+\n",
      "|order_year|order_month|product_name                                 |product_revenue|dense_rank|\n",
      "+----------+-----------+---------------------------------------------+---------------+----------+\n",
      "|2013      |Aug        |Field & Stream Sportsman 16 Gun Fire Safe    |540772.97      |1         |\n",
      "|2013      |Aug        |Perfect Fitness Perfect Rip Deck             |349861.69      |2         |\n",
      "|2013      |Aug        |Diamondback Women's Serene Classic Comfort Bi|319778.69      |3         |\n",
      "|2013      |Aug        |Nike Men's Free 5.0+ Running Shoe            |279172.08      |4         |\n",
      "|2013      |Aug        |Nike Men's Dri-FIT Victory Golf Polo         |247700.0       |5         |\n",
      "|2013      |Dec        |Field & Stream Sportsman 16 Gun Fire Safe    |595570.24      |1         |\n",
      "|2013      |Dec        |Perfect Fitness Perfect Rip Deck             |342842.86      |2         |\n",
      "|2013      |Dec        |Diamondback Women's Serene Classic Comfort Bi|336277.59      |3         |\n",
      "|2013      |Dec        |Nike Men's Free 5.0+ Running Shoe            |298370.16      |4         |\n",
      "|2013      |Dec        |Pelican Sunstream 100 Kayak                  |249987.51      |5         |\n",
      "|2013      |Jul        |Field & Stream Sportsman 16 Gun Fire Safe    |150792.46      |1         |\n",
      "|2013      |Jul        |Perfect Fitness Perfect Rip Deck             |98923.51       |2         |\n",
      "|2013      |Jul        |Diamondback Women's Serene Classic Comfort Bi|92993.8        |3         |\n",
      "|2013      |Jul        |Nike Men's Free 5.0+ Running Shoe            |77192.28       |4         |\n",
      "|2013      |Jul        |Nike Men's Dri-FIT Victory Golf Polo         |64750.0        |5         |\n",
      "|2013      |Nov        |Field & Stream Sportsman 16 Gun Fire Safe    |605969.72      |1         |\n",
      "|2013      |Nov        |Perfect Fitness Perfect Rip Deck             |384655.89      |2         |\n",
      "|2013      |Nov        |Diamondback Women's Serene Classic Comfort Bi|375874.95      |3         |\n",
      "|2013      |Nov        |Nike Men's Free 5.0+ Running Shoe            |328567.14      |4         |\n",
      "|2013      |Nov        |Nike Men's Dri-FIT Victory Golf Polo         |278400.0       |5         |\n",
      "+----------+-----------+---------------------------------------------+---------------+----------+\n",
      "only showing top 20 rows\n",
      "\n"
     ]
    }
   ],
   "source": [
    "top_prod_per_month_per_year_by_rev.show(false)"
   ]
  },
  {
   "cell_type": "markdown",
   "metadata": {},
   "source": [
    "### 4.8 Get the most popular Categories:\n",
    "\n",
    "**SQL:**"
   ]
  },
  {
   "cell_type": "code",
   "execution_count": 57,
   "metadata": {},
   "outputs": [
    {
     "name": "stdout",
     "output_type": "stream",
     "text": [
      "+--------------------+-----------+\n",
      "|       category_name|order_count|\n",
      "+--------------------+-----------+\n",
      "|              Cleats|      24551|\n",
      "|      Men's Footwear|      22246|\n",
      "|     Women's Apparel|      21035|\n",
      "|Indoor/Outdoor Games|      19298|\n",
      "|             Fishing|      17325|\n",
      "|        Water Sports|      15540|\n",
      "|    Camping & Hiking|      13729|\n",
      "|    Cardio Equipment|      12487|\n",
      "|       Shop By Sport|      10984|\n",
      "|         Electronics|       3156|\n",
      "+--------------------+-----------+\n",
      "\n"
     ]
    }
   ],
   "source": [
    "spark.sql(\n",
    "        \"\"\"SELECT c.category_name, count(order_item_quantity) as order_count \n",
    "          |FROM order_items oi \n",
    "          |INNER JOIN products p on oi.order_item_product_id = p.product_id \n",
    "          |INNER JOIN categories c on c.category_id = p.product_category_id \n",
    "          |GROUP BY c.category_name \n",
    "          |ORDER BY order_count DESC \n",
    "          |LIMIT 10 \n",
    "        \"\"\").show()"
   ]
  },
  {
   "cell_type": "markdown",
   "metadata": {},
   "source": [
    "**DF API:**"
   ]
  },
  {
   "cell_type": "code",
   "execution_count": 58,
   "metadata": {},
   "outputs": [
    {
     "data": {
      "text/plain": [
       "pop_cat = [category_name: string, order_count: bigint]\n"
      ]
     },
     "metadata": {},
     "output_type": "display_data"
    },
    {
     "data": {
      "text/plain": [
       "[category_name: string, order_count: bigint]"
      ]
     },
     "execution_count": 58,
     "metadata": {},
     "output_type": "execute_result"
    }
   ],
   "source": [
    "val pop_cat = order_items_df\n",
    " .join(products_df, order_items_df(\"order_item_product_id\") === products_df(\"product_id\"))\n",
    " .join(categories_df, categories_df(\"category_id\") === products_df(\"product_category_id\"))\n",
    " .groupBy(\"category_name\")\n",
    " .agg(sum(\"order_item_quantity\").alias(\"order_count\"))\n",
    " .orderBy(desc(\"order_count\"))\n",
    " .limit(10).cache()"
   ]
  },
  {
   "cell_type": "code",
   "execution_count": 59,
   "metadata": {},
   "outputs": [
    {
     "name": "stdout",
     "output_type": "stream",
     "text": [
      "+--------------------+-----------+\n",
      "|       category_name|order_count|\n",
      "+--------------------+-----------+\n",
      "|              Cleats|      73734|\n",
      "|     Women's Apparel|      62956|\n",
      "|Indoor/Outdoor Games|      57803|\n",
      "|    Cardio Equipment|      37587|\n",
      "|       Shop By Sport|      32726|\n",
      "|      Men's Footwear|      22246|\n",
      "|             Fishing|      17325|\n",
      "|        Water Sports|      15540|\n",
      "|    Camping & Hiking|      13729|\n",
      "|         Electronics|       9436|\n",
      "+--------------------+-----------+\n",
      "\n"
     ]
    }
   ],
   "source": [
    "pop_cat.show()"
   ]
  },
  {
   "cell_type": "markdown",
   "metadata": {},
   "source": [
    "### 4.9 Get the revenue for each Category Per Year Per Quarter:\n",
    "\n",
    "This use case is inspired from https://databricks.com/blog/2016/02/09/reshaping-data-with-pivot-in-apache-spark.html\n",
    "\n",
    "**Reshaping Data with Pivot in Apache Spark:**\n",
    "\n",
    "`pivot` is applied after a `groupBy` operation. It pivots on a `pivotColumn` column, i.e. adds new columns per distinct values in `pivotColumn` and the values from the `groupBy` operation becomes the values in the correponding new distinct valued columns.\n",
    "\n",
    "**SQL + DF API**  \n",
    "There is no equivalent pivot function in SQL."
   ]
  },
  {
   "cell_type": "code",
   "execution_count": 60,
   "metadata": {},
   "outputs": [
    {
     "name": "stdout",
     "output_type": "stream",
     "text": [
      "+--------------------+----------+----------+----------+----------+----------+-----------+\n",
      "|       category_name|order_year|        Q1|        Q2|        Q3|        Q4|total_sales|\n",
      "+--------------------+----------+----------+----------+----------+----------+-----------+\n",
      "|             Fishing|      2014|1673916.35| 1594720.3| 415179.25|      null|  3683815.9|\n",
      "|             Fishing|      2013|      null|      null|1248337.61|1705514.77| 2953852.38|\n",
      "|              Cleats|      2014|1080480.24|1027808.94| 270734.96|      null| 2379024.14|\n",
      "|    Camping & Hiking|      2014| 981834.58| 935637.65| 273281.79|      null| 2190754.02|\n",
      "|    Cardio Equipment|      2014| 855664.98| 873333.24| 223277.91|      null| 1952276.13|\n",
      "|              Cleats|      2013|      null|      null| 806026.14|1059543.73| 1865569.87|\n",
      "|    Camping & Hiking|      2013|      null|      null| 745750.31|1010332.68| 1756082.99|\n",
      "|     Women's Apparel|      2014|  756700.0|  728450.0|  196000.0|      null|  1681150.0|\n",
      "|        Water Sports|      2014| 740763.07| 715814.31| 202239.92|      null|  1658817.3|\n",
      "|    Cardio Equipment|      2013|      null|      null| 686091.93| 894921.15| 1581013.08|\n",
      "|      Men's Footwear|      2014| 692846.73| 662689.05| 183025.93|      null| 1538561.71|\n",
      "|Indoor/Outdoor Games|      2014| 684126.23| 674530.07| 172530.96|      null| 1531187.26|\n",
      "|     Women's Apparel|      2013|      null|      null|  564200.0|  766250.0|  1330450.0|\n",
      "|        Water Sports|      2013|      null|      null| 570671.53| 752362.46| 1323033.99|\n",
      "|Indoor/Outdoor Games|      2013|      null|      null| 529937.93| 704418.11| 1234356.04|\n",
      "|      Men's Footwear|      2013|      null|      null| 512680.58|  712735.2| 1225415.78|\n",
      "|       Shop By Sport|      2014| 306115.55| 294338.72|  82260.02|      null|  682714.29|\n",
      "|       Shop By Sport|      2013|      null|      null| 246249.99| 324431.35|  570681.34|\n",
      "|         Electronics|      2014|  82597.71|  86027.36|   22332.4|      null|  190957.47|\n",
      "|         Electronics|      2013|      null|      null|  68847.75|  97031.17|  165878.92|\n",
      "+--------------------+----------+----------+----------+----------+----------+-----------+\n",
      "only showing top 20 rows\n",
      "\n"
     ]
    },
    {
     "data": {
      "text/plain": [
       "rev_cat_df = [category_name: string, order_year: int ... 5 more fields]\n"
      ]
     },
     "metadata": {},
     "output_type": "display_data"
    },
    {
     "data": {
      "text/plain": [
       "[category_name: string, order_year: int ... 5 more fields]"
      ]
     },
     "execution_count": 60,
     "metadata": {},
     "output_type": "execute_result"
    }
   ],
   "source": [
    "val rev_cat_df = spark.sql(\n",
    "            \"\"\"SELECT c.category_name, year(o.order_date) as order_year, concat('Q', quarter(o.order_date)) as order_quarter, order_item_subtotal\n",
    "              |FROM orders o \n",
    "              |INNER JOIN order_items oi on order_item_order_id = o.order_id\n",
    "              |INNER JOIN products p on oi.order_item_product_id = p.product_id \n",
    "              |INNER JOIN categories c on p.product_category_id = c.category_id\n",
    "              |WHERE o.order_status <> 'CANCELED' AND o.order_status <> 'SUSPECTED_FRAUD'\"\"\")\n",
    "            .groupBy(\"category_name\",\"order_year\")\n",
    "            .pivot(\"order_quarter\",Seq(\"Q1\", \"Q2\", \"Q3\", \"Q4\"))  \n",
    "// specifying the unique values (if we know) for pivot column makes execution faster. Above could be just written as .pivot(\"order_quarter\")\n",
    "            .agg(round(sum(\"order_item_subtotal\"), 2))\n",
    "            .withColumn(\"total_sales\", round(coalesce(col(\"Q1\"), lit(0)) + coalesce(col(\"Q2\"), lit(0)) + coalesce(col(\"Q3\"), lit(0)) + coalesce(col(\"Q4\"), lit(0)), 2))\n",
    "            .orderBy(desc(\"total_sales\")) \n",
    "            .cache()\n",
    "\n",
    "rev_cat_df.show()"
   ]
  },
  {
   "cell_type": "markdown",
   "metadata": {},
   "source": [
    "**Revalidate above calculation with a specific category:**"
   ]
  },
  {
   "cell_type": "code",
   "execution_count": 61,
   "metadata": {},
   "outputs": [
    {
     "name": "stdout",
     "output_type": "stream",
     "text": [
      "+-------------+----------+-------------+-----------+\n",
      "|category_name|order_year|order_quarter|order_total|\n",
      "+-------------+----------+-------------+-----------+\n",
      "|      Fishing|      2013|            4| 1705514.77|\n",
      "|      Fishing|      2014|            1| 1673916.35|\n",
      "|      Fishing|      2014|            2|  1594720.3|\n",
      "|      Fishing|      2013|            3| 1248337.61|\n",
      "|      Fishing|      2014|            3|  415179.25|\n",
      "+-------------+----------+-------------+-----------+\n",
      "\n"
     ]
    }
   ],
   "source": [
    "spark.sql(\n",
    "        \"\"\"SELECT c.category_name, YEAR(o.order_date) as order_year, QUARTER(o.order_date) as order_quarter, ROUND(SUM(oi.order_item_subtotal), 2) as order_total \n",
    "          |FROM orders o \n",
    "          |INNER JOIN order_items oi on order_item_order_id = o.order_id\n",
    "          |INNER JOIN products p on oi.order_item_product_id = p.product_id \n",
    "          |INNER JOIN categories c on p.product_category_id = c.category_id\n",
    "          |WHERE o.order_status <> 'CANCELED' AND o.order_status <> 'SUSPECTED_FRAUD'\n",
    "          |AND c.category_name = 'Fishing'\n",
    "          |GROUP BY c.category_name, order_year, order_quarter\n",
    "          |ORDER BY order_year, order_quarter, order_total DESC\n",
    "        \"\"\").show()"
   ]
  },
  {
   "cell_type": "markdown",
   "metadata": {},
   "source": [
    "### 4.10 Get Number of Orders By Status:\n",
    "\n",
    "**SQL:**"
   ]
  },
  {
   "cell_type": "code",
   "execution_count": 62,
   "metadata": {},
   "outputs": [
    {
     "name": "stdout",
     "output_type": "stream",
     "text": [
      "+---------------+-----+\n",
      "|   order_status|total|\n",
      "+---------------+-----+\n",
      "|PENDING_PAYMENT|15030|\n",
      "|       COMPLETE|22899|\n",
      "|        ON_HOLD| 3798|\n",
      "| PAYMENT_REVIEW|  729|\n",
      "|     PROCESSING| 8275|\n",
      "|         CLOSED| 7556|\n",
      "|SUSPECTED_FRAUD| 1558|\n",
      "|        PENDING| 7610|\n",
      "|       CANCELED| 1428|\n",
      "+---------------+-----+\n",
      "\n"
     ]
    }
   ],
   "source": [
    "spark.sql(\n",
    "        \"\"\"SELECT order_status, count(1) as total\n",
    "          |FROM orders o\n",
    "          |GROUP BY o.order_status\n",
    "        \"\"\").show()"
   ]
  },
  {
   "cell_type": "markdown",
   "metadata": {},
   "source": [
    "**DF API:**"
   ]
  },
  {
   "cell_type": "code",
   "execution_count": 63,
   "metadata": {},
   "outputs": [
    {
     "data": {
      "text/plain": [
       "df = [order_status: string, total: bigint]\n"
      ]
     },
     "metadata": {},
     "output_type": "display_data"
    },
    {
     "data": {
      "text/plain": [
       "[order_status: string, total: bigint]"
      ]
     },
     "execution_count": 63,
     "metadata": {},
     "output_type": "execute_result"
    }
   ],
   "source": [
    "val df = orders_df.groupBy(\"order_status\").count().withColumnRenamed(\"count\", \"total\").cache()"
   ]
  },
  {
   "cell_type": "code",
   "execution_count": 64,
   "metadata": {},
   "outputs": [
    {
     "name": "stdout",
     "output_type": "stream",
     "text": [
      "+---------------+-----+\n",
      "|   order_status|total|\n",
      "+---------------+-----+\n",
      "|PENDING_PAYMENT|15030|\n",
      "|       COMPLETE|22899|\n",
      "|        ON_HOLD| 3798|\n",
      "| PAYMENT_REVIEW|  729|\n",
      "|     PROCESSING| 8275|\n",
      "|         CLOSED| 7556|\n",
      "|SUSPECTED_FRAUD| 1558|\n",
      "|        PENDING| 7610|\n",
      "|       CANCELED| 1428|\n",
      "+---------------+-----+\n",
      "\n"
     ]
    }
   ],
   "source": [
    "df.show()"
   ]
  },
  {
   "cell_type": "markdown",
   "metadata": {},
   "source": [
    "### 4.11 Get Number of Orders By Order Date and Order Status:\n",
    "\n",
    "**SQL:**"
   ]
  },
  {
   "cell_type": "code",
   "execution_count": 65,
   "metadata": {},
   "outputs": [
    {
     "name": "stdout",
     "output_type": "stream",
     "text": [
      "+---------------------+---------------+-----+\n",
      "|order_date           |order_status   |total|\n",
      "+---------------------+---------------+-----+\n",
      "|2013-08-16 00:00:00.0|COMPLETE       |43   |\n",
      "|2013-08-30 00:00:00.0|CLOSED         |17   |\n",
      "|2013-09-10 00:00:00.0|COMPLETE       |80   |\n",
      "|2013-10-05 00:00:00.0|SUSPECTED_FRAUD|4    |\n",
      "|2013-12-02 00:00:00.0|SUSPECTED_FRAUD|3    |\n",
      "|2013-12-09 00:00:00.0|ON_HOLD        |9    |\n",
      "|2013-12-20 00:00:00.0|SUSPECTED_FRAUD|3    |\n",
      "|2013-12-23 00:00:00.0|PAYMENT_REVIEW |2    |\n",
      "|2014-01-02 00:00:00.0|CLOSED         |15   |\n",
      "|2014-02-11 00:00:00.0|CANCELED       |3    |\n",
      "|2014-02-14 00:00:00.0|ON_HOLD        |11   |\n",
      "|2014-02-21 00:00:00.0|PROCESSING     |25   |\n",
      "|2014-05-13 00:00:00.0|SUSPECTED_FRAUD|3    |\n",
      "|2014-06-27 00:00:00.0|PENDING        |26   |\n",
      "|2014-07-16 00:00:00.0|ON_HOLD        |3    |\n",
      "|2013-08-16 00:00:00.0|PENDING_PAYMENT|30   |\n",
      "|2013-08-29 00:00:00.0|PROCESSING     |31   |\n",
      "|2013-09-10 00:00:00.0|SUSPECTED_FRAUD|3    |\n",
      "|2013-09-25 00:00:00.0|CLOSED         |28   |\n",
      "|2013-09-27 00:00:00.0|PENDING_PAYMENT|56   |\n",
      "+---------------------+---------------+-----+\n",
      "only showing top 20 rows\n",
      "\n"
     ]
    }
   ],
   "source": [
    "spark.sql(\n",
    "        \"\"\"SELECT order_date, order_status, count(1) as total\n",
    "          |FROM orders o\n",
    "          |GROUP BY order_date, o.order_status\n",
    "        \"\"\").show(false)"
   ]
  },
  {
   "cell_type": "markdown",
   "metadata": {},
   "source": [
    "**DF API:**"
   ]
  },
  {
   "cell_type": "code",
   "execution_count": 66,
   "metadata": {},
   "outputs": [
    {
     "name": "stdout",
     "output_type": "stream",
     "text": [
      "+---------------------+---------------+-----+\n",
      "|order_date           |order_status   |total|\n",
      "+---------------------+---------------+-----+\n",
      "|2013-08-16 00:00:00.0|COMPLETE       |43   |\n",
      "|2013-08-30 00:00:00.0|CLOSED         |17   |\n",
      "|2013-09-10 00:00:00.0|COMPLETE       |80   |\n",
      "|2013-10-05 00:00:00.0|SUSPECTED_FRAUD|4    |\n",
      "|2013-12-02 00:00:00.0|SUSPECTED_FRAUD|3    |\n",
      "|2013-12-09 00:00:00.0|ON_HOLD        |9    |\n",
      "|2013-12-20 00:00:00.0|SUSPECTED_FRAUD|3    |\n",
      "|2013-12-23 00:00:00.0|PAYMENT_REVIEW |2    |\n",
      "|2014-01-02 00:00:00.0|CLOSED         |15   |\n",
      "|2014-02-11 00:00:00.0|CANCELED       |3    |\n",
      "|2014-02-14 00:00:00.0|ON_HOLD        |11   |\n",
      "|2014-02-21 00:00:00.0|PROCESSING     |25   |\n",
      "|2014-05-13 00:00:00.0|SUSPECTED_FRAUD|3    |\n",
      "|2014-06-27 00:00:00.0|PENDING        |26   |\n",
      "|2014-07-16 00:00:00.0|ON_HOLD        |3    |\n",
      "|2013-08-16 00:00:00.0|PENDING_PAYMENT|30   |\n",
      "|2013-08-29 00:00:00.0|PROCESSING     |31   |\n",
      "|2013-09-10 00:00:00.0|SUSPECTED_FRAUD|3    |\n",
      "|2013-09-25 00:00:00.0|CLOSED         |28   |\n",
      "|2013-09-27 00:00:00.0|PENDING_PAYMENT|56   |\n",
      "+---------------------+---------------+-----+\n",
      "only showing top 20 rows\n",
      "\n"
     ]
    }
   ],
   "source": [
    "orders_df\n",
    " .groupBy(\"order_date\", \"order_status\")\n",
    " .count().withColumnRenamed(\"count\", \"total\")\n",
    " .show(false)"
   ]
  },
  {
   "cell_type": "markdown",
   "metadata": {},
   "source": [
    "### 4.12 Get all CANCELED orders with amount greater than \\$1000:\n",
    "\n",
    "**SQL:**"
   ]
  },
  {
   "cell_type": "code",
   "execution_count": 67,
   "metadata": {},
   "outputs": [
    {
     "name": "stdout",
     "output_type": "stream",
     "text": [
      "+--------+---------------------+-----------------+------------+------------------+\n",
      "|order_id|order_date           |order_customer_id|order_status|order_total       |\n",
      "+--------+---------------------+-----------------+------------+------------------+\n",
      "|753     |2013-07-29 00:00:00.0|5094             |CANCELED    |1129.75           |\n",
      "|2012    |2013-08-04 00:00:00.0|5165             |CANCELED    |1499.8600311279297|\n",
      "|2144    |2013-08-05 00:00:00.0|7932             |CANCELED    |1099.900032043457 |\n",
      "|2189    |2013-08-06 00:00:00.0|6829             |CANCELED    |1029.9400253295898|\n",
      "|2271    |2013-08-06 00:00:00.0|7603             |CANCELED    |1229.9300231933594|\n",
      "|2754    |2013-08-09 00:00:00.0|8946             |CANCELED    |1109.9500274658203|\n",
      "|3551    |2013-08-14 00:00:00.0|5363             |CANCELED    |1299.8700408935547|\n",
      "|4354    |2013-08-20 00:00:00.0|7268             |CANCELED    |1047.9000244140625|\n",
      "|4801    |2013-08-23 00:00:00.0|11630            |CANCELED    |1016.9500217437744|\n",
      "|5331    |2013-08-26 00:00:00.0|3361             |CANCELED    |1229.8100204467773|\n",
      "|5613    |2013-08-28 00:00:00.0|7052             |CANCELED    |1049.8700103759766|\n",
      "|6180    |2013-09-02 00:00:00.0|8688             |CANCELED    |1059.8800354003906|\n",
      "|6231    |2013-09-02 00:00:00.0|12347            |CANCELED    |1279.8900299072266|\n",
      "|6548    |2013-09-04 00:00:00.0|172              |CANCELED    |1069.910026550293 |\n",
      "|6819    |2013-09-06 00:00:00.0|1548             |CANCELED    |1149.8500366210938|\n",
      "|7053    |2013-09-07 00:00:00.0|10424            |CANCELED    |1339.8500213623047|\n",
      "|7360    |2013-09-08 00:00:00.0|12102            |CANCELED    |1009.9200286865234|\n",
      "|7491    |2013-09-09 00:00:00.0|6892             |CANCELED    |1249.8500213623047|\n",
      "|8433    |2013-09-15 00:00:00.0|6568             |CANCELED    |1329.9200439453125|\n",
      "|8488    |2013-09-16 00:00:00.0|9154             |CANCELED    |1079.8900108337402|\n",
      "+--------+---------------------+-----------------+------------+------------------+\n",
      "only showing top 20 rows\n",
      "\n"
     ]
    }
   ],
   "source": [
    "spark.sql(\n",
    "    \"\"\"SELECT q.* \n",
    "      |FROM (SELECT o.order_id, o.order_date, o.order_customer_id, o.order_status, sum(oi.order_item_subtotal) as order_total \n",
    "      |      FROM orders o INNER JOIN order_items oi \n",
    "      |          ON o.order_id = oi.order_item_order_id \n",
    "      |      WHERE o.order_status = 'CANCELED' \n",
    "      |      GROUP BY o.order_id, o.order_date, o.order_customer_id, o.order_status) q \n",
    "      |WHERE q.order_total >= 1000 \n",
    "      |ORDER BY q.order_id\n",
    "    \"\"\").show(false)"
   ]
  },
  {
   "cell_type": "markdown",
   "metadata": {},
   "source": [
    "**DF API:**"
   ]
  },
  {
   "cell_type": "code",
   "execution_count": 68,
   "metadata": {},
   "outputs": [
    {
     "data": {
      "text/plain": [
       "cancelled_orders = [order_id: int, order_date: string ... 3 more fields]\n"
      ]
     },
     "metadata": {},
     "output_type": "display_data"
    },
    {
     "data": {
      "text/plain": [
       "[order_id: int, order_date: string ... 3 more fields]"
      ]
     },
     "execution_count": 68,
     "metadata": {},
     "output_type": "execute_result"
    }
   ],
   "source": [
    "val cancelled_orders = orders_df\n",
    "                 .filter(col(\"order_status\") === \"CANCELED\")\n",
    "                 .join(order_items_df, orders_df(\"order_id\") === order_items_df(\"order_item_order_id\"))\n",
    "                 .groupBy(\"order_id\", \"order_date\", \"order_customer_id\", \"order_status\")\n",
    "                 .agg(sum(\"order_item_subtotal\").alias(\"order_total\"))\n",
    "                 .filter(col(\"order_total\") >= 1000)\n",
    "                 .orderBy(\"order_id\").cache()"
   ]
  },
  {
   "cell_type": "code",
   "execution_count": 69,
   "metadata": {},
   "outputs": [
    {
     "name": "stdout",
     "output_type": "stream",
     "text": [
      "+--------+---------------------+-----------------+------------+------------------+\n",
      "|order_id|order_date           |order_customer_id|order_status|order_total       |\n",
      "+--------+---------------------+-----------------+------------+------------------+\n",
      "|753     |2013-07-29 00:00:00.0|5094             |CANCELED    |1129.75           |\n",
      "|2012    |2013-08-04 00:00:00.0|5165             |CANCELED    |1499.8600311279297|\n",
      "|2144    |2013-08-05 00:00:00.0|7932             |CANCELED    |1099.900032043457 |\n",
      "|2189    |2013-08-06 00:00:00.0|6829             |CANCELED    |1029.9400253295898|\n",
      "|2271    |2013-08-06 00:00:00.0|7603             |CANCELED    |1229.9300231933594|\n",
      "|2754    |2013-08-09 00:00:00.0|8946             |CANCELED    |1109.9500274658203|\n",
      "|3551    |2013-08-14 00:00:00.0|5363             |CANCELED    |1299.8700408935547|\n",
      "|4354    |2013-08-20 00:00:00.0|7268             |CANCELED    |1047.9000244140625|\n",
      "|4801    |2013-08-23 00:00:00.0|11630            |CANCELED    |1016.9500217437744|\n",
      "|5331    |2013-08-26 00:00:00.0|3361             |CANCELED    |1229.8100204467773|\n",
      "|5613    |2013-08-28 00:00:00.0|7052             |CANCELED    |1049.8700103759766|\n",
      "|6180    |2013-09-02 00:00:00.0|8688             |CANCELED    |1059.8800354003906|\n",
      "|6231    |2013-09-02 00:00:00.0|12347            |CANCELED    |1279.8900299072266|\n",
      "|6548    |2013-09-04 00:00:00.0|172              |CANCELED    |1069.910026550293 |\n",
      "|6819    |2013-09-06 00:00:00.0|1548             |CANCELED    |1149.8500366210938|\n",
      "|7053    |2013-09-07 00:00:00.0|10424            |CANCELED    |1339.8500213623047|\n",
      "|7360    |2013-09-08 00:00:00.0|12102            |CANCELED    |1009.9200286865234|\n",
      "|7491    |2013-09-09 00:00:00.0|6892             |CANCELED    |1249.8500213623047|\n",
      "|8433    |2013-09-15 00:00:00.0|6568             |CANCELED    |1329.9200439453125|\n",
      "|8488    |2013-09-16 00:00:00.0|9154             |CANCELED    |1079.8900108337402|\n",
      "+--------+---------------------+-----------------+------------+------------------+\n",
      "only showing top 20 rows\n",
      "\n"
     ]
    }
   ],
   "source": [
    "cancelled_orders.show(false)"
   ]
  },
  {
   "cell_type": "markdown",
   "metadata": {},
   "source": [
    "### 4.13 Sort Products by Category and Price:\n",
    "\n",
    "**SQL:**"
   ]
  },
  {
   "cell_type": "code",
   "execution_count": 70,
   "metadata": {},
   "outputs": [
    {
     "name": "stdout",
     "output_type": "stream",
     "text": [
      "+----------+-------------------+---------------------------------------------+-------------+\n",
      "|product_id|product_category_id|product_name                                 |product_price|\n",
      "+----------+-------------------+---------------------------------------------+-------------+\n",
      "|16        |2                  |Riddell Youth 360 Custom Football Helmet     |299.99       |\n",
      "|11        |2                  |Fitness Gear 300 lb Olympic Weight Set       |209.99       |\n",
      "|5         |2                  |Riddell Youth Revolution Speed Custom Footbal|199.99       |\n",
      "|14        |2                  |Quik Shade Summit SX170 10 FT. x 10 FT. Canop|199.99       |\n",
      "|12        |2                  |Under Armour Men's Highlight MC Alter Ego Fla|139.99       |\n",
      "|23        |2                  |Under Armour Men's Highlight MC Alter Ego Hul|139.99       |\n",
      "|6         |2                  |Jordan Men's VI Retro TD Football Cleat      |134.99       |\n",
      "|20        |2                  |Under Armour Men's Highlight MC Football Clea|129.99       |\n",
      "|8         |2                  |Nike Men's Vapor Carbon Elite TD Football Cle|129.99       |\n",
      "|17        |2                  |Under Armour Men's Highlight MC Football Clea|129.99       |\n",
      "|2         |2                  |Under Armour Men's Highlight MC Football Clea|129.99       |\n",
      "|10        |2                  |Under Armour Men's Highlight MC Football Clea|129.99       |\n",
      "|19        |2                  |Nike Men's Fingertrap Max Training Shoe      |124.99       |\n",
      "|7         |2                  |Schutt Youth Recruit Hybrid Custom Football H|99.99        |\n",
      "|3         |2                  |Under Armour Men's Renegade D Mid Football Cl|89.99        |\n",
      "|4         |2                  |Under Armour Men's Renegade D Mid Football Cl|89.99        |\n",
      "|13        |2                  |Under Armour Men's Renegade D Mid Football Cl|89.99        |\n",
      "|24        |2                  |Elevation Training Mask 2.0                  |79.99        |\n",
      "|15        |2                  |Under Armour Kids' Highlight RM Alter Ego Sup|59.99        |\n",
      "|1         |2                  |Quest Q64 10 FT. x 10 FT. Slant Leg Instant U|59.98        |\n",
      "+----------+-------------------+---------------------------------------------+-------------+\n",
      "only showing top 20 rows\n",
      "\n"
     ]
    }
   ],
   "source": [
    "spark.sql(\n",
    "        \"\"\"SELECT p.product_id, p.product_category_id, p.product_name, p.product_price\n",
    "          |FROM products p\n",
    "          |ORDER BY p.product_category_id ASC, p.product_price DESC\n",
    "        \"\"\").show(false)"
   ]
  },
  {
   "cell_type": "markdown",
   "metadata": {},
   "source": [
    "**DF API:**"
   ]
  },
  {
   "cell_type": "code",
   "execution_count": 71,
   "metadata": {},
   "outputs": [
    {
     "name": "stdout",
     "output_type": "stream",
     "text": [
      "+----------+-------------------+---------------------------------------------+-------------+\n",
      "|product_id|product_category_id|product_name                                 |product_price|\n",
      "+----------+-------------------+---------------------------------------------+-------------+\n",
      "|16        |2                  |Riddell Youth 360 Custom Football Helmet     |299.99       |\n",
      "|11        |2                  |Fitness Gear 300 lb Olympic Weight Set       |209.99       |\n",
      "|5         |2                  |Riddell Youth Revolution Speed Custom Footbal|199.99       |\n",
      "|14        |2                  |Quik Shade Summit SX170 10 FT. x 10 FT. Canop|199.99       |\n",
      "|12        |2                  |Under Armour Men's Highlight MC Alter Ego Fla|139.99       |\n",
      "|23        |2                  |Under Armour Men's Highlight MC Alter Ego Hul|139.99       |\n",
      "|6         |2                  |Jordan Men's VI Retro TD Football Cleat      |134.99       |\n",
      "|20        |2                  |Under Armour Men's Highlight MC Football Clea|129.99       |\n",
      "|8         |2                  |Nike Men's Vapor Carbon Elite TD Football Cle|129.99       |\n",
      "|17        |2                  |Under Armour Men's Highlight MC Football Clea|129.99       |\n",
      "|2         |2                  |Under Armour Men's Highlight MC Football Clea|129.99       |\n",
      "|10        |2                  |Under Armour Men's Highlight MC Football Clea|129.99       |\n",
      "|19        |2                  |Nike Men's Fingertrap Max Training Shoe      |124.99       |\n",
      "|7         |2                  |Schutt Youth Recruit Hybrid Custom Football H|99.99        |\n",
      "|3         |2                  |Under Armour Men's Renegade D Mid Football Cl|89.99        |\n",
      "|4         |2                  |Under Armour Men's Renegade D Mid Football Cl|89.99        |\n",
      "|13        |2                  |Under Armour Men's Renegade D Mid Football Cl|89.99        |\n",
      "|24        |2                  |Elevation Training Mask 2.0                  |79.99        |\n",
      "|15        |2                  |Under Armour Kids' Highlight RM Alter Ego Sup|59.99        |\n",
      "|1         |2                  |Quest Q64 10 FT. x 10 FT. Slant Leg Instant U|59.98        |\n",
      "+----------+-------------------+---------------------------------------------+-------------+\n",
      "only showing top 20 rows\n",
      "\n"
     ]
    }
   ],
   "source": [
    "products_df\n",
    " .select(\"product_id\", \"product_category_id\", \"product_name\", \"product_price\")\n",
    " .orderBy(asc(\"product_category_id\"), desc(\"product_price\"))\n",
    " .show(false)"
   ]
  },
  {
   "cell_type": "markdown",
   "metadata": {},
   "source": [
    "### 4.14 Sort Products by Price within Each Category:\n",
    "\n",
    "**SQL:**"
   ]
  },
  {
   "cell_type": "code",
   "execution_count": 72,
   "metadata": {},
   "outputs": [
    {
     "name": "stdout",
     "output_type": "stream",
     "text": [
      "+----------+-------------------+----------------------------------------------+-------------+\n",
      "|product_id|product_category_id|product_name                                  |product_price|\n",
      "+----------+-------------------+----------------------------------------------+-------------+\n",
      "|681       |31                 |Boccieri Golf EL C2-M Counterbalance Putter   |119.99       |\n",
      "|1192      |53                 |Nike Men's Kobe IX Elite Low Basketball Shoe  |199.99       |\n",
      "|747       |34                 |Ogio City Spiked Golf Shoes                   |149.99       |\n",
      "|758       |34                 |TRUE linkswear Vegas Golf Shoes               |99.99        |\n",
      "|595       |27                 |TYR Girls' Phoenix Maxfit Back Swimsuit       |75.99        |\n",
      "|549       |26                 |Lotto Men's Zhero Gravity V 700 TF Soccer Cle |59.99        |\n",
      "|551       |26                 |Lotto Men's Zhero Gravity V 700 TF Soccer Cle |59.99        |\n",
      "|572       |26                 |TYR Boys' Team Digi Jammer                    |39.99        |\n",
      "|561       |26                 |adidas Men's 2014 MLS All-Star Game Lumber Hu |22.0         |\n",
      "|554       |26                 |adidas Men's 2014 MLS All-Star Game Cross Bla |20.0         |\n",
      "|974       |44                 |The North Face Women's Stinson Rain Jacket    |90.0         |\n",
      "|246       |12                 |Nike Women's Tempo Shorts                     |30.0         |\n",
      "|484       |22                 |Nike Men's Free 5.0+ Running Shoe             |99.99        |\n",
      "|483       |22                 |Nike Women's Tempo Shorts                     |30.0         |\n",
      "|485       |22                 |\"Nike Women's Pro Core 3\"\" Compression Shorts\"|28.0         |\n",
      "|1056      |47                 |Garmin vivofit Fitness Band with HRM          |169.99       |\n",
      "|1042      |47                 |Under Armour Hustle Backpack                  |54.99        |\n",
      "|1047      |47                 |Under Armour Men's Ignite Camo II Slide       |34.99        |\n",
      "|1157      |52                 |Reebok Men's Chicago Blackhawks Jonathan Toew |170.0        |\n",
      "|1160      |52                 |Reebok Women's Chicago Blackhawks Patrick Kan |130.0        |\n",
      "+----------+-------------------+----------------------------------------------+-------------+\n",
      "only showing top 20 rows\n",
      "\n"
     ]
    }
   ],
   "source": [
    "spark.sql(\n",
    "        \"\"\"SELECT p.product_id, p.product_category_id, p.product_name, p.product_price\n",
    "          |FROM products p \n",
    "          |DISTRIBUTE BY p.product_category_id \n",
    "          |SORT BY p.product_price DESC\n",
    "        \"\"\").sample(false, fraction=0.1, seed=23).show(false)"
   ]
  },
  {
   "cell_type": "markdown",
   "metadata": {},
   "source": [
    "**DF API:**"
   ]
  },
  {
   "cell_type": "code",
   "execution_count": 73,
   "metadata": {},
   "outputs": [
    {
     "name": "stdout",
     "output_type": "stream",
     "text": [
      "+----------+-------------------+----------------------------------------------+-------------+\n",
      "|product_id|product_category_id|product_name                                  |product_price|\n",
      "+----------+-------------------+----------------------------------------------+-------------+\n",
      "|681       |31                 |Boccieri Golf EL C2-M Counterbalance Putter   |119.99       |\n",
      "|1192      |53                 |Nike Men's Kobe IX Elite Low Basketball Shoe  |199.99       |\n",
      "|747       |34                 |Ogio City Spiked Golf Shoes                   |149.99       |\n",
      "|758       |34                 |TRUE linkswear Vegas Golf Shoes               |99.99        |\n",
      "|595       |27                 |TYR Girls' Phoenix Maxfit Back Swimsuit       |75.99        |\n",
      "|549       |26                 |Lotto Men's Zhero Gravity V 700 TF Soccer Cle |59.99        |\n",
      "|551       |26                 |Lotto Men's Zhero Gravity V 700 TF Soccer Cle |59.99        |\n",
      "|572       |26                 |TYR Boys' Team Digi Jammer                    |39.99        |\n",
      "|561       |26                 |adidas Men's 2014 MLS All-Star Game Lumber Hu |22.0         |\n",
      "|554       |26                 |adidas Men's 2014 MLS All-Star Game Cross Bla |20.0         |\n",
      "|974       |44                 |The North Face Women's Stinson Rain Jacket    |90.0         |\n",
      "|246       |12                 |Nike Women's Tempo Shorts                     |30.0         |\n",
      "|484       |22                 |Nike Men's Free 5.0+ Running Shoe             |99.99        |\n",
      "|483       |22                 |Nike Women's Tempo Shorts                     |30.0         |\n",
      "|485       |22                 |\"Nike Women's Pro Core 3\"\" Compression Shorts\"|28.0         |\n",
      "|1056      |47                 |Garmin vivofit Fitness Band with HRM          |169.99       |\n",
      "|1042      |47                 |Under Armour Hustle Backpack                  |54.99        |\n",
      "|1047      |47                 |Under Armour Men's Ignite Camo II Slide       |34.99        |\n",
      "|1157      |52                 |Reebok Men's Chicago Blackhawks Jonathan Toew |170.0        |\n",
      "|1160      |52                 |Reebok Women's Chicago Blackhawks Patrick Kan |130.0        |\n",
      "+----------+-------------------+----------------------------------------------+-------------+\n",
      "only showing top 20 rows\n",
      "\n"
     ]
    }
   ],
   "source": [
    "products_df\n",
    " .repartition($\"product_category_id\")\n",
    " .sortWithinPartitions(desc(\"product_price\"))\n",
    " .sample(false, fraction=0.1, seed=23)\n",
    " .select(\"product_id\", \"product_category_id\", \"product_name\", \"product_price\")\n",
    " .show(false)"
   ]
  },
  {
   "cell_type": "markdown",
   "metadata": {},
   "source": [
    "### 4.15 Get the topmost 5 products overall sorted by Price Highest to Lowest:\n",
    "**sortN: get top 5 products by price overall; globalSorting**\n",
    "\n",
    "**SQL:**"
   ]
  },
  {
   "cell_type": "code",
   "execution_count": 74,
   "metadata": {},
   "outputs": [
    {
     "name": "stdout",
     "output_type": "stream",
     "text": [
      "+----------+-------------------+------------------------------------------------+-------------+\n",
      "|product_id|product_category_id|product_name                                    |product_price|\n",
      "+----------+-------------------+------------------------------------------------+-------------+\n",
      "|208       |10                 |SOLE E35 Elliptical                             |1999.99      |\n",
      "|66        |4                  |SOLE F85 Treadmill                              |1799.99      |\n",
      "|199       |10                 |SOLE F85 Treadmill                              |1799.99      |\n",
      "|496       |22                 |SOLE F85 Treadmill                              |1799.99      |\n",
      "|1048      |47                 |\"Spalding Beast 60\"\" Glass Portable Basketball \"|1099.99      |\n",
      "+----------+-------------------+------------------------------------------------+-------------+\n",
      "\n"
     ]
    }
   ],
   "source": [
    "spark.sql(\n",
    "        \"\"\"SELECT product_id, product_category_id, product_name, product_price\n",
    "          |FROM products\n",
    "          |ORDER BY product_price DESC\n",
    "          |LIMIT 5\n",
    "        \"\"\").show(false)"
   ]
  },
  {
   "cell_type": "markdown",
   "metadata": {},
   "source": [
    "**DF API:**"
   ]
  },
  {
   "cell_type": "code",
   "execution_count": 75,
   "metadata": {},
   "outputs": [
    {
     "name": "stdout",
     "output_type": "stream",
     "text": [
      "+----------+-------------------+------------------------------------------------+-------------+\n",
      "|product_id|product_category_id|product_name                                    |product_price|\n",
      "+----------+-------------------+------------------------------------------------+-------------+\n",
      "|208       |10                 |SOLE E35 Elliptical                             |1999.99      |\n",
      "|66        |4                  |SOLE F85 Treadmill                              |1799.99      |\n",
      "|199       |10                 |SOLE F85 Treadmill                              |1799.99      |\n",
      "|496       |22                 |SOLE F85 Treadmill                              |1799.99      |\n",
      "|1048      |47                 |\"Spalding Beast 60\"\" Glass Portable Basketball \"|1099.99      |\n",
      "+----------+-------------------+------------------------------------------------+-------------+\n",
      "\n"
     ]
    }
   ],
   "source": [
    "products_df\n",
    "    .select(\"product_id\", \"product_category_id\", \"product_name\", \"product_price\")\n",
    "     .orderBy(desc(\"product_price\"))\n",
    "     .limit(5)\n",
    "     .show(false)"
   ]
  },
  {
   "cell_type": "markdown",
   "metadata": {},
   "source": [
    "### 4.16 Get the topmost 5 products in each category where the products are sorted by Price Highest to Lowest:\n",
    "**sort: sortingByKey, sort() by price per category**\n",
    "\n",
    "**SQL:**"
   ]
  },
  {
   "cell_type": "code",
   "execution_count": 76,
   "metadata": {},
   "outputs": [
    {
     "name": "stdout",
     "output_type": "stream",
     "text": [
      "+-------------------+----------+------------------------------------------------+-------------+-------+\n",
      "|product_category_id|product_id|product_name                                    |product_price|row_num|\n",
      "+-------------------+----------+------------------------------------------------+-------------+-------+\n",
      "|2                  |16        |Riddell Youth 360 Custom Football Helmet        |299.99       |1      |\n",
      "|2                  |11        |Fitness Gear 300 lb Olympic Weight Set          |209.99       |2      |\n",
      "|2                  |5         |Riddell Youth Revolution Speed Custom Footbal   |199.99       |3      |\n",
      "|2                  |14        |Quik Shade Summit SX170 10 FT. x 10 FT. Canop   |199.99       |4      |\n",
      "|2                  |12        |Under Armour Men's Highlight MC Alter Ego Fla   |139.99       |5      |\n",
      "|3                  |40        |Quik Shade Summit SX170 10 FT. x 10 FT. Canop   |199.99       |1      |\n",
      "|3                  |32        |PUMA Men's evoPOWER 1 Tricks FG Soccer Cleat    |189.99       |2      |\n",
      "|3                  |35        |adidas Brazuca 2014 Official Match Ball         |159.99       |3      |\n",
      "|3                  |48        |adidas Brazuca Final Rio Official Match Ball    |159.99       |4      |\n",
      "|3                  |46        |Quest 12' x 12' Dome Canopy                     |149.99       |5      |\n",
      "|4                  |66        |SOLE F85 Treadmill                              |1799.99      |1      |\n",
      "|4                  |60        |SOLE E25 Elliptical                             |999.99       |2      |\n",
      "|4                  |71        |Diamondback Adult Response XE Mountain Bike 2   |349.98       |3      |\n",
      "|4                  |68        |Diamondback Adult Outlook Mountain Bike 2014    |309.99       |4      |\n",
      "|4                  |58        |Diamondback Boys' Insight 24 Performance Hybr   |299.99       |5      |\n",
      "|5                  |74        |\"Goaliath 54\"\" In-Ground Basketball Hoop with P\"|499.99       |1      |\n",
      "|5                  |96        |Teeter Hang Ups NXT-S Inversion Table           |299.99       |2      |\n",
      "|5                  |79        |Fitness Gear 300 lb Olympic Weight Set          |209.99       |3      |\n",
      "|5                  |81        |Quik Shade Summit SX170 10 FT. x 10 FT. Canop   |199.99       |4      |\n",
      "|5                  |90        |Nike Men's LeBron XI Basketball Shoe            |199.99       |5      |\n",
      "+-------------------+----------+------------------------------------------------+-------------+-------+\n",
      "only showing top 20 rows\n",
      "\n"
     ]
    }
   ],
   "source": [
    "spark.sql(\n",
    "        \"\"\"SELECT product_category_id, product_id, product_name, product_price, row_num\n",
    "          |FROM ( \n",
    "          |     SELECT q.*, row_number() OVER (PARTITION BY q.product_category_id ORDER BY q.product_price desc) as row_num \n",
    "          |     FROM products q)\n",
    "          |WHERE row_num <= 5 \n",
    "          |ORDER BY product_category_id, row_num\n",
    "          |      \n",
    "        \"\"\").show(false)"
   ]
  },
  {
   "cell_type": "markdown",
   "metadata": {},
   "source": [
    "**DF API:**"
   ]
  },
  {
   "cell_type": "code",
   "execution_count": 77,
   "metadata": {},
   "outputs": [
    {
     "data": {
      "text/plain": [
       "windowSpec = org.apache.spark.sql.expressions.WindowSpec@1c0e655c\n"
      ]
     },
     "metadata": {},
     "output_type": "display_data"
    },
    {
     "data": {
      "text/plain": [
       "org.apache.spark.sql.expressions.WindowSpec@1c0e655c"
      ]
     },
     "execution_count": 77,
     "metadata": {},
     "output_type": "execute_result"
    }
   ],
   "source": [
    "val windowSpec = Window.partitionBy(products_df(\"product_category_id\")).orderBy(products_df(\"product_price\").desc)"
   ]
  },
  {
   "cell_type": "code",
   "execution_count": 78,
   "metadata": {},
   "outputs": [
    {
     "name": "stdout",
     "output_type": "stream",
     "text": [
      "+-------------------+----------+------------------------------------------------+-------------+-------+\n",
      "|product_category_id|product_id|product_name                                    |product_price|row_num|\n",
      "+-------------------+----------+------------------------------------------------+-------------+-------+\n",
      "|2                  |16        |Riddell Youth 360 Custom Football Helmet        |299.99       |1      |\n",
      "|2                  |11        |Fitness Gear 300 lb Olympic Weight Set          |209.99       |2      |\n",
      "|2                  |5         |Riddell Youth Revolution Speed Custom Footbal   |199.99       |3      |\n",
      "|2                  |14        |Quik Shade Summit SX170 10 FT. x 10 FT. Canop   |199.99       |4      |\n",
      "|2                  |12        |Under Armour Men's Highlight MC Alter Ego Fla   |139.99       |5      |\n",
      "|3                  |40        |Quik Shade Summit SX170 10 FT. x 10 FT. Canop   |199.99       |1      |\n",
      "|3                  |32        |PUMA Men's evoPOWER 1 Tricks FG Soccer Cleat    |189.99       |2      |\n",
      "|3                  |35        |adidas Brazuca 2014 Official Match Ball         |159.99       |3      |\n",
      "|3                  |48        |adidas Brazuca Final Rio Official Match Ball    |159.99       |4      |\n",
      "|3                  |46        |Quest 12' x 12' Dome Canopy                     |149.99       |5      |\n",
      "|4                  |66        |SOLE F85 Treadmill                              |1799.99      |1      |\n",
      "|4                  |60        |SOLE E25 Elliptical                             |999.99       |2      |\n",
      "|4                  |71        |Diamondback Adult Response XE Mountain Bike 2   |349.98       |3      |\n",
      "|4                  |68        |Diamondback Adult Outlook Mountain Bike 2014    |309.99       |4      |\n",
      "|4                  |58        |Diamondback Boys' Insight 24 Performance Hybr   |299.99       |5      |\n",
      "|5                  |74        |\"Goaliath 54\"\" In-Ground Basketball Hoop with P\"|499.99       |1      |\n",
      "|5                  |96        |Teeter Hang Ups NXT-S Inversion Table           |299.99       |2      |\n",
      "|5                  |79        |Fitness Gear 300 lb Olympic Weight Set          |209.99       |3      |\n",
      "|5                  |81        |Quik Shade Summit SX170 10 FT. x 10 FT. Canop   |199.99       |4      |\n",
      "|5                  |90        |Nike Men's LeBron XI Basketball Shoe            |199.99       |5      |\n",
      "+-------------------+----------+------------------------------------------------+-------------+-------+\n",
      "only showing top 20 rows\n",
      "\n"
     ]
    }
   ],
   "source": [
    "products_df.withColumn(\"row_num\", row_number().over(windowSpec))\n",
    "    .select(\"product_category_id\", \"product_id\", \"product_name\", \"product_price\",\"row_num\")\n",
    "    .filter(col(\"row_num\") <= 5)\n",
    "    .orderBy(\"product_category_id\", \"row_num\")\n",
    "    .show(false)"
   ]
  },
  {
   "cell_type": "markdown",
   "metadata": {},
   "source": [
    "### RANK and DENSE_RANK\n",
    "\n",
    "**RANK** gives us the ranking within our ordered partition. Ties are assigned the same rank, with the next ranking(s) skipped. So, if we have 3 items at rank 2, the next rank listed would be ranked 5.\n",
    "\n",
    "**DENSE_RANK** again gives us the ranking within our ordered partition, but the ranks are consecutive. No ranks are skipped if there are ranks with multiple items.\n",
    "\n",
    "The Following 3 examples plays with the rank(), dense_rank() and row_number() functions."
   ]
  },
  {
   "cell_type": "markdown",
   "metadata": {},
   "source": [
    "### 4.17 Get topN products by price in each category:\n",
    "**topN: For each product category get the top 5 records. i.e. top 5 ranked products in each category (some of the products may have same price so the top 5 products will all be distinct products but their prices may not be distinct 5. So, the number of distinct prices <= 5 in the top5 but the count distinct products may be >= 5. top 5 ranked products does not necessary mean there will be exactly 5 products may be less or more too.**"
   ]
  },
  {
   "cell_type": "markdown",
   "metadata": {},
   "source": [
    "**SQL:**"
   ]
  },
  {
   "cell_type": "code",
   "execution_count": 79,
   "metadata": {},
   "outputs": [
    {
     "name": "stdout",
     "output_type": "stream",
     "text": [
      "+-------------------+----------+------------------------------------------------+-------------+----+\n",
      "|product_category_id|product_id|product_name                                    |product_price|rank|\n",
      "+-------------------+----------+------------------------------------------------+-------------+----+\n",
      "|2                  |16        |Riddell Youth 360 Custom Football Helmet        |299.99       |1   |\n",
      "|2                  |11        |Fitness Gear 300 lb Olympic Weight Set          |209.99       |2   |\n",
      "|2                  |5         |Riddell Youth Revolution Speed Custom Footbal   |199.99       |3   |\n",
      "|2                  |14        |Quik Shade Summit SX170 10 FT. x 10 FT. Canop   |199.99       |3   |\n",
      "|2                  |23        |Under Armour Men's Highlight MC Alter Ego Hul   |139.99       |5   |\n",
      "|2                  |12        |Under Armour Men's Highlight MC Alter Ego Fla   |139.99       |5   |\n",
      "|3                  |40        |Quik Shade Summit SX170 10 FT. x 10 FT. Canop   |199.99       |1   |\n",
      "|3                  |32        |PUMA Men's evoPOWER 1 Tricks FG Soccer Cleat    |189.99       |2   |\n",
      "|3                  |35        |adidas Brazuca 2014 Official Match Ball         |159.99       |3   |\n",
      "|3                  |48        |adidas Brazuca Final Rio Official Match Ball    |159.99       |3   |\n",
      "|3                  |46        |Quest 12' x 12' Dome Canopy                     |149.99       |5   |\n",
      "|4                  |66        |SOLE F85 Treadmill                              |1799.99      |1   |\n",
      "|4                  |60        |SOLE E25 Elliptical                             |999.99       |2   |\n",
      "|4                  |71        |Diamondback Adult Response XE Mountain Bike 2   |349.98       |3   |\n",
      "|4                  |68        |Diamondback Adult Outlook Mountain Bike 2014    |309.99       |4   |\n",
      "|4                  |61        |Diamondback Girls' Clarity 24 Hybrid Bike 201   |299.99       |5   |\n",
      "|4                  |58        |Diamondback Boys' Insight 24 Performance Hybr   |299.99       |5   |\n",
      "|5                  |74        |\"Goaliath 54\"\" In-Ground Basketball Hoop with P\"|499.99       |1   |\n",
      "|5                  |96        |Teeter Hang Ups NXT-S Inversion Table           |299.99       |2   |\n",
      "|5                  |79        |Fitness Gear 300 lb Olympic Weight Set          |209.99       |3   |\n",
      "+-------------------+----------+------------------------------------------------+-------------+----+\n",
      "only showing top 20 rows\n",
      "\n"
     ]
    }
   ],
   "source": [
    "spark.sql(\n",
    "        \"\"\"SELECT product_category_id, product_id, product_name, product_price, rank\n",
    "          |FROM ( \n",
    "          |     SELECT q.*, rank() OVER (PARTITION BY q.product_category_id ORDER BY q.product_price DESC) as rank \n",
    "          |     FROM products q)\n",
    "          |WHERE rank <= 5 \n",
    "          |ORDER BY product_category_id, rank\n",
    "          |      \n",
    "        \"\"\").show(false)"
   ]
  },
  {
   "cell_type": "markdown",
   "metadata": {},
   "source": [
    "**DF API:**"
   ]
  },
  {
   "cell_type": "code",
   "execution_count": 80,
   "metadata": {},
   "outputs": [
    {
     "data": {
      "text/plain": [
       "windowSpec = org.apache.spark.sql.expressions.WindowSpec@46fece5a\n"
      ]
     },
     "metadata": {},
     "output_type": "display_data"
    },
    {
     "data": {
      "text/plain": [
       "org.apache.spark.sql.expressions.WindowSpec@46fece5a"
      ]
     },
     "execution_count": 80,
     "metadata": {},
     "output_type": "execute_result"
    }
   ],
   "source": [
    "val windowSpec = Window.partitionBy(products_df(\"product_category_id\")).orderBy(products_df(\"product_price\").desc)"
   ]
  },
  {
   "cell_type": "code",
   "execution_count": 81,
   "metadata": {},
   "outputs": [
    {
     "data": {
      "text/plain": [
       "top_five_per_ctg = [product_category_id: int, product_id: int ... 3 more fields]\n"
      ]
     },
     "metadata": {},
     "output_type": "display_data"
    },
    {
     "data": {
      "text/plain": [
       "[product_category_id: int, product_id: int ... 3 more fields]"
      ]
     },
     "execution_count": 81,
     "metadata": {},
     "output_type": "execute_result"
    }
   ],
   "source": [
    "val top_five_per_ctg = products_df.withColumn(\"rank\", rank().over(windowSpec))\n",
    "    .select(\"product_category_id\", \"product_id\", \"product_name\", \"product_price\",\"rank\")\n",
    "    .filter(col(\"rank\") <= 5)\n",
    "    .orderBy(\"product_category_id\", \"rank\")\n",
    "    .cache()"
   ]
  },
  {
   "cell_type": "code",
   "execution_count": 82,
   "metadata": {},
   "outputs": [
    {
     "name": "stdout",
     "output_type": "stream",
     "text": [
      "+-------------------+----------+------------------------------------------------+-------------+----+\n",
      "|product_category_id|product_id|product_name                                    |product_price|rank|\n",
      "+-------------------+----------+------------------------------------------------+-------------+----+\n",
      "|2                  |16        |Riddell Youth 360 Custom Football Helmet        |299.99       |1   |\n",
      "|2                  |11        |Fitness Gear 300 lb Olympic Weight Set          |209.99       |2   |\n",
      "|2                  |5         |Riddell Youth Revolution Speed Custom Footbal   |199.99       |3   |\n",
      "|2                  |14        |Quik Shade Summit SX170 10 FT. x 10 FT. Canop   |199.99       |3   |\n",
      "|2                  |12        |Under Armour Men's Highlight MC Alter Ego Fla   |139.99       |5   |\n",
      "|2                  |23        |Under Armour Men's Highlight MC Alter Ego Hul   |139.99       |5   |\n",
      "|3                  |40        |Quik Shade Summit SX170 10 FT. x 10 FT. Canop   |199.99       |1   |\n",
      "|3                  |32        |PUMA Men's evoPOWER 1 Tricks FG Soccer Cleat    |189.99       |2   |\n",
      "|3                  |35        |adidas Brazuca 2014 Official Match Ball         |159.99       |3   |\n",
      "|3                  |48        |adidas Brazuca Final Rio Official Match Ball    |159.99       |3   |\n",
      "|3                  |46        |Quest 12' x 12' Dome Canopy                     |149.99       |5   |\n",
      "|4                  |66        |SOLE F85 Treadmill                              |1799.99      |1   |\n",
      "|4                  |60        |SOLE E25 Elliptical                             |999.99       |2   |\n",
      "|4                  |71        |Diamondback Adult Response XE Mountain Bike 2   |349.98       |3   |\n",
      "|4                  |68        |Diamondback Adult Outlook Mountain Bike 2014    |309.99       |4   |\n",
      "|4                  |58        |Diamondback Boys' Insight 24 Performance Hybr   |299.99       |5   |\n",
      "|4                  |61        |Diamondback Girls' Clarity 24 Hybrid Bike 201   |299.99       |5   |\n",
      "|5                  |74        |\"Goaliath 54\"\" In-Ground Basketball Hoop with P\"|499.99       |1   |\n",
      "|5                  |96        |Teeter Hang Ups NXT-S Inversion Table           |299.99       |2   |\n",
      "|5                  |79        |Fitness Gear 300 lb Olympic Weight Set          |209.99       |3   |\n",
      "+-------------------+----------+------------------------------------------------+-------------+----+\n",
      "only showing top 20 rows\n",
      "\n"
     ]
    }
   ],
   "source": [
    "top_five_per_ctg.show(false)"
   ]
  },
  {
   "cell_type": "markdown",
   "metadata": {},
   "source": [
    "### 4.18 Get 'topN priced' products in each category:\n",
    "**topDenseN: For each category get top 5 priced products i.e. if there are 10 products with distinct top 5 prices, the DF should give us all 10 products, so all the products will be distinct as well as we will get 5 different distinct prices too among them.**"
   ]
  },
  {
   "cell_type": "markdown",
   "metadata": {},
   "source": [
    "**SQL:**"
   ]
  },
  {
   "cell_type": "code",
   "execution_count": 83,
   "metadata": {},
   "outputs": [
    {
     "name": "stdout",
     "output_type": "stream",
     "text": [
      "+-------------------+----------+------------------------------------------------+-------------+----------+\n",
      "|product_category_id|product_id|product_name                                    |product_price|dense_rank|\n",
      "+-------------------+----------+------------------------------------------------+-------------+----------+\n",
      "|2                  |16        |Riddell Youth 360 Custom Football Helmet        |299.99       |1         |\n",
      "|2                  |11        |Fitness Gear 300 lb Olympic Weight Set          |209.99       |2         |\n",
      "|2                  |5         |Riddell Youth Revolution Speed Custom Footbal   |199.99       |3         |\n",
      "|2                  |14        |Quik Shade Summit SX170 10 FT. x 10 FT. Canop   |199.99       |3         |\n",
      "|2                  |12        |Under Armour Men's Highlight MC Alter Ego Fla   |139.99       |4         |\n",
      "|2                  |23        |Under Armour Men's Highlight MC Alter Ego Hul   |139.99       |4         |\n",
      "|2                  |6         |Jordan Men's VI Retro TD Football Cleat         |134.99       |5         |\n",
      "|3                  |40        |Quik Shade Summit SX170 10 FT. x 10 FT. Canop   |199.99       |1         |\n",
      "|3                  |32        |PUMA Men's evoPOWER 1 Tricks FG Soccer Cleat    |189.99       |2         |\n",
      "|3                  |35        |adidas Brazuca 2014 Official Match Ball         |159.99       |3         |\n",
      "|3                  |48        |adidas Brazuca Final Rio Official Match Ball    |159.99       |3         |\n",
      "|3                  |46        |Quest 12' x 12' Dome Canopy                     |149.99       |4         |\n",
      "|3                  |31        |Nike+ Fuelband SE                               |99.0         |5         |\n",
      "|4                  |66        |SOLE F85 Treadmill                              |1799.99      |1         |\n",
      "|4                  |60        |SOLE E25 Elliptical                             |999.99       |2         |\n",
      "|4                  |71        |Diamondback Adult Response XE Mountain Bike 2   |349.98       |3         |\n",
      "|4                  |68        |Diamondback Adult Outlook Mountain Bike 2014    |309.99       |4         |\n",
      "|4                  |58        |Diamondback Boys' Insight 24 Performance Hybr   |299.99       |5         |\n",
      "|4                  |61        |Diamondback Girls' Clarity 24 Hybrid Bike 201   |299.99       |5         |\n",
      "|5                  |74        |\"Goaliath 54\"\" In-Ground Basketball Hoop with P\"|499.99       |1         |\n",
      "+-------------------+----------+------------------------------------------------+-------------+----------+\n",
      "only showing top 20 rows\n",
      "\n"
     ]
    }
   ],
   "source": [
    "spark.sql(\n",
    "        \"\"\"SELECT product_category_id, product_id, product_name, product_price, dense_rank\n",
    "          |FROM ( \n",
    "          |     SELECT q.*, dense_rank() OVER (PARTITION BY q.product_category_id ORDER BY q.product_price DESC) as dense_rank \n",
    "          |     FROM products q)\n",
    "          |WHERE dense_rank <= 5 \n",
    "          |ORDER BY product_category_id, dense_rank\n",
    "          |      \n",
    "        \"\"\").show(false)"
   ]
  },
  {
   "cell_type": "markdown",
   "metadata": {},
   "source": [
    "**DF API:**"
   ]
  },
  {
   "cell_type": "code",
   "execution_count": 84,
   "metadata": {},
   "outputs": [
    {
     "data": {
      "text/plain": [
       "windowSpec = org.apache.spark.sql.expressions.WindowSpec@2a45a3fa\n"
      ]
     },
     "metadata": {},
     "output_type": "display_data"
    },
    {
     "data": {
      "text/plain": [
       "org.apache.spark.sql.expressions.WindowSpec@2a45a3fa"
      ]
     },
     "execution_count": 84,
     "metadata": {},
     "output_type": "execute_result"
    }
   ],
   "source": [
    "val windowSpec = Window.partitionBy(products_df(\"product_category_id\")).orderBy(products_df(\"product_price\").desc)"
   ]
  },
  {
   "cell_type": "code",
   "execution_count": 85,
   "metadata": {},
   "outputs": [
    {
     "name": "stdout",
     "output_type": "stream",
     "text": [
      "+-------------------+----------+------------------------------------------------+-------------+----------+\n",
      "|product_category_id|product_id|product_name                                    |product_price|dense_rank|\n",
      "+-------------------+----------+------------------------------------------------+-------------+----------+\n",
      "|2                  |16        |Riddell Youth 360 Custom Football Helmet        |299.99       |1         |\n",
      "|2                  |11        |Fitness Gear 300 lb Olympic Weight Set          |209.99       |2         |\n",
      "|2                  |14        |Quik Shade Summit SX170 10 FT. x 10 FT. Canop   |199.99       |3         |\n",
      "|2                  |5         |Riddell Youth Revolution Speed Custom Footbal   |199.99       |3         |\n",
      "|2                  |12        |Under Armour Men's Highlight MC Alter Ego Fla   |139.99       |4         |\n",
      "|2                  |23        |Under Armour Men's Highlight MC Alter Ego Hul   |139.99       |4         |\n",
      "|2                  |6         |Jordan Men's VI Retro TD Football Cleat         |134.99       |5         |\n",
      "|3                  |40        |Quik Shade Summit SX170 10 FT. x 10 FT. Canop   |199.99       |1         |\n",
      "|3                  |32        |PUMA Men's evoPOWER 1 Tricks FG Soccer Cleat    |189.99       |2         |\n",
      "|3                  |48        |adidas Brazuca Final Rio Official Match Ball    |159.99       |3         |\n",
      "|3                  |35        |adidas Brazuca 2014 Official Match Ball         |159.99       |3         |\n",
      "|3                  |46        |Quest 12' x 12' Dome Canopy                     |149.99       |4         |\n",
      "|3                  |31        |Nike+ Fuelband SE                               |99.0         |5         |\n",
      "|4                  |66        |SOLE F85 Treadmill                              |1799.99      |1         |\n",
      "|4                  |60        |SOLE E25 Elliptical                             |999.99       |2         |\n",
      "|4                  |71        |Diamondback Adult Response XE Mountain Bike 2   |349.98       |3         |\n",
      "|4                  |68        |Diamondback Adult Outlook Mountain Bike 2014    |309.99       |4         |\n",
      "|4                  |58        |Diamondback Boys' Insight 24 Performance Hybr   |299.99       |5         |\n",
      "|4                  |61        |Diamondback Girls' Clarity 24 Hybrid Bike 201   |299.99       |5         |\n",
      "|5                  |74        |\"Goaliath 54\"\" In-Ground Basketball Hoop with P\"|499.99       |1         |\n",
      "+-------------------+----------+------------------------------------------------+-------------+----------+\n",
      "only showing top 20 rows\n",
      "\n"
     ]
    }
   ],
   "source": [
    "products_df.withColumn(\"dense_rank\", dense_rank().over(windowSpec))\n",
    "    .select(\"product_category_id\", \"product_id\", \"product_name\", \"product_price\",\"dense_rank\")\n",
    "    .filter(col(\"dense_rank\") <= 5)\n",
    "    .orderBy(\"product_category_id\", \"dense_rank\")\n",
    "    .show(false)"
   ]
  },
  {
   "cell_type": "markdown",
   "metadata": {},
   "source": [
    "### 4.19 Get the Customer Id with max revenue on Daily basis:\n",
    "\n",
    "**SQL:**"
   ]
  },
  {
   "cell_type": "code",
   "execution_count": 86,
   "metadata": {},
   "outputs": [
    {
     "name": "stdout",
     "output_type": "stream",
     "text": [
      "+---------------------+-----------------+----------------+-----------+\n",
      "|order_date           |order_customer_id|customer_name   |order_total|\n",
      "+---------------------+-----------------+----------------+-----------+\n",
      "|2013-07-25 00:00:00.0|11941            |Jeffrey Pugh    |1649.8     |\n",
      "|2013-07-26 00:00:00.0|32               |Alice Smith     |2009.75    |\n",
      "|2013-07-27 00:00:00.0|11491            |David Smith     |1379.88    |\n",
      "|2013-07-28 00:00:00.0|5738             |Mildred Taylor  |1499.87    |\n",
      "|2013-07-29 00:00:00.0|2632             |John Smith      |1389.86    |\n",
      "|2013-07-29 00:00:00.0|5182             |Thomas Morgan   |1389.86    |\n",
      "|2013-07-30 00:00:00.0|10029            |Mary Silva      |1529.92    |\n",
      "|2013-07-31 00:00:00.0|1175             |Mary Gray       |1699.91    |\n",
      "|2013-08-01 00:00:00.0|9151             |Aaron Smith     |1709.82    |\n",
      "|2013-08-02 00:00:00.0|5548             |Michael Crawford|1594.92    |\n",
      "|2013-08-03 00:00:00.0|9572             |Mary Nelson     |1569.79    |\n",
      "|2013-08-04 00:00:00.0|2290             |Joe Wright      |1589.86    |\n",
      "|2013-08-05 00:00:00.0|3938             |Mary Smith      |1419.88    |\n",
      "|2013-08-06 00:00:00.0|2019             |Pamela Smith    |1529.91    |\n",
      "|2013-08-07 00:00:00.0|2556             |Samuel Hammond  |1429.87    |\n",
      "|2013-08-08 00:00:00.0|4960             |Mary Smith      |1359.78    |\n",
      "|2013-08-09 00:00:00.0|11662            |Mary Smith      |1579.93    |\n",
      "|2013-08-10 00:00:00.0|11806            |Mildred Hester  |1699.9     |\n",
      "|2013-08-11 00:00:00.0|7270             |Mary Smith      |1659.86    |\n",
      "|2013-08-12 00:00:00.0|7565             |Jean Donovan    |1659.86    |\n",
      "+---------------------+-----------------+----------------+-----------+\n",
      "only showing top 20 rows\n",
      "\n"
     ]
    }
   ],
   "source": [
    "/*\n",
    "# 1. Join orders and order_items and group by order_date and customer_id to calculate the revenue per customer per day\n",
    "# 2. Sort the above using rank() function to get the maximum revenue per day\n",
    "# 3. Select only rows with rank = 1, that will give the customer_id with max revenue\n",
    "# 4. Join with customers table to get the customer details\n",
    "*/\n",
    "\n",
    "spark.sql(\n",
    "        \"\"\"SELECT a. order_date, a.order_customer_id, concat_ws(' ', c.customer_fname, c.customer_lname) as customer_name, a.order_total\n",
    "          |FROM ( \n",
    "          |     SELECT *, rank() OVER (PARTITION BY b.order_date ORDER BY b.order_total DESC) as rank \n",
    "          |     FROM ( \n",
    "          |          SELECT o.order_date, o.order_customer_id, round(sum(oi.order_item_subtotal), 2) as order_total \n",
    "          |          FROM orders o INNER JOIN order_items oi \n",
    "          |              ON o.order_id = oi.order_item_order_id  \n",
    "          |          WHERE o.order_status <> 'CANCELED' AND o.order_status <> 'SUSPECTED_FRAUD' \n",
    "          |          GROUP BY o.order_date, o.order_customer_id) b \n",
    "          |     ) a INNER JOIN customers c\n",
    "          |           ON a.order_customer_id = c.customer_id\n",
    "          |WHERE rank = 1 \n",
    "          |ORDER BY order_date\n",
    "          |      \n",
    "        \"\"\").show(false)"
   ]
  },
  {
   "cell_type": "markdown",
   "metadata": {},
   "source": [
    "**DF API:**"
   ]
  },
  {
   "cell_type": "code",
   "execution_count": 87,
   "metadata": {},
   "outputs": [
    {
     "data": {
      "text/plain": [
       "rev_per_day_per_cust = [order_date: string, order_customer_id: int ... 1 more field]\n"
      ]
     },
     "metadata": {},
     "output_type": "display_data"
    },
    {
     "data": {
      "text/plain": [
       "[order_date: string, order_customer_id: int ... 1 more field]"
      ]
     },
     "execution_count": 87,
     "metadata": {},
     "output_type": "execute_result"
    }
   ],
   "source": [
    "val rev_per_day_per_cust = orders_df\n",
    "                    .select($\"order_date\", $\"order_id\", $\"order_customer_id\", $\"order_status\")\n",
    "                    .filter((col(\"order_status\") =!= \"CANCELED\") && (col(\"order_status\") =!= \"SUSPECTED_FRAUD\"))\n",
    "                    .join(order_items_df, orders_df(\"order_id\") === order_items_df(\"order_item_order_id\"))\n",
    "                    .select(\"order_date\",\"order_customer_id\",\"order_item_subtotal\")\n",
    "                    .groupBy(\"order_date\",\"order_customer_id\")\n",
    "                    .agg(round(sum(\"order_item_subtotal\"),2).alias(\"order_total\"))\n",
    "                    .cache()"
   ]
  },
  {
   "cell_type": "code",
   "execution_count": 88,
   "metadata": {},
   "outputs": [
    {
     "name": "stdout",
     "output_type": "stream",
     "text": [
      "+---------------------+-----------------+-----------+\n",
      "|order_date           |order_customer_id|order_total|\n",
      "+---------------------+-----------------+-----------+\n",
      "|2013-07-26 00:00:00.0|7710             |1199.82    |\n",
      "|2013-07-27 00:00:00.0|1180             |1129.94    |\n",
      "|2013-07-30 00:00:00.0|5511             |319.97     |\n",
      "|2013-07-31 00:00:00.0|12018            |347.94     |\n",
      "|2013-08-03 00:00:00.0|6698             |709.94     |\n",
      "+---------------------+-----------------+-----------+\n",
      "only showing top 5 rows\n",
      "\n"
     ]
    }
   ],
   "source": [
    "rev_per_day_per_cust.show(5,false)"
   ]
  },
  {
   "cell_type": "code",
   "execution_count": 89,
   "metadata": {},
   "outputs": [
    {
     "data": {
      "text/plain": [
       "windowSpec = org.apache.spark.sql.expressions.WindowSpec@3502bc96\n"
      ]
     },
     "metadata": {},
     "output_type": "display_data"
    },
    {
     "data": {
      "text/plain": [
       "org.apache.spark.sql.expressions.WindowSpec@3502bc96"
      ]
     },
     "execution_count": 89,
     "metadata": {},
     "output_type": "execute_result"
    }
   ],
   "source": [
    "val windowSpec = Window.partitionBy(rev_per_day_per_cust(\"order_date\")).orderBy(rev_per_day_per_cust(\"order_total\").desc)"
   ]
  },
  {
   "cell_type": "code",
   "execution_count": 90,
   "metadata": {},
   "outputs": [
    {
     "data": {
      "text/plain": [
       "top_cust_per_day_by_rev = [order_date: string, order_customer_id: int ... 2 more fields]\n"
      ]
     },
     "metadata": {},
     "output_type": "display_data"
    },
    {
     "data": {
      "text/plain": [
       "[order_date: string, order_customer_id: int ... 2 more fields]"
      ]
     },
     "execution_count": 90,
     "metadata": {},
     "output_type": "execute_result"
    }
   ],
   "source": [
    "val top_cust_per_day_by_rev = rev_per_day_per_cust\n",
    "                           .withColumn(\"rank\",rank().over(windowSpec))\n",
    "                           .filter(col(\"rank\") === 1)\n",
    "                           .orderBy(\"order_date\").cache()"
   ]
  },
  {
   "cell_type": "code",
   "execution_count": 91,
   "metadata": {},
   "outputs": [
    {
     "name": "stdout",
     "output_type": "stream",
     "text": [
      "+---------------------+-----------------+-----------+----+\n",
      "|order_date           |order_customer_id|order_total|rank|\n",
      "+---------------------+-----------------+-----------+----+\n",
      "|2013-07-25 00:00:00.0|11941            |1649.8     |1   |\n",
      "|2013-07-26 00:00:00.0|32               |2009.75    |1   |\n",
      "|2013-07-27 00:00:00.0|11491            |1379.88    |1   |\n",
      "|2013-07-28 00:00:00.0|5738             |1499.87    |1   |\n",
      "|2013-07-29 00:00:00.0|2632             |1389.86    |1   |\n",
      "+---------------------+-----------------+-----------+----+\n",
      "only showing top 5 rows\n",
      "\n"
     ]
    }
   ],
   "source": [
    "top_cust_per_day_by_rev.show(5,false)"
   ]
  },
  {
   "cell_type": "code",
   "execution_count": 92,
   "metadata": {},
   "outputs": [
    {
     "name": "stdout",
     "output_type": "stream",
     "text": [
      "+---------------------+-----------------+----------------+-----------+\n",
      "|order_date           |order_customer_id|customer_name   |order_total|\n",
      "+---------------------+-----------------+----------------+-----------+\n",
      "|2013-07-25 00:00:00.0|11941            |Jeffrey Pugh    |1649.8     |\n",
      "|2013-07-26 00:00:00.0|32               |Alice Smith     |2009.75    |\n",
      "|2013-07-27 00:00:00.0|11491            |David Smith     |1379.88    |\n",
      "|2013-07-28 00:00:00.0|5738             |Mildred Taylor  |1499.87    |\n",
      "|2013-07-29 00:00:00.0|2632             |John Smith      |1389.86    |\n",
      "|2013-07-29 00:00:00.0|5182             |Thomas Morgan   |1389.86    |\n",
      "|2013-07-30 00:00:00.0|10029            |Mary Silva      |1529.92    |\n",
      "|2013-07-31 00:00:00.0|1175             |Mary Gray       |1699.91    |\n",
      "|2013-08-01 00:00:00.0|9151             |Aaron Smith     |1709.82    |\n",
      "|2013-08-02 00:00:00.0|5548             |Michael Crawford|1594.92    |\n",
      "|2013-08-03 00:00:00.0|9572             |Mary Nelson     |1569.79    |\n",
      "|2013-08-04 00:00:00.0|2290             |Joe Wright      |1589.86    |\n",
      "|2013-08-05 00:00:00.0|3938             |Mary Smith      |1419.88    |\n",
      "|2013-08-06 00:00:00.0|2019             |Pamela Smith    |1529.91    |\n",
      "|2013-08-07 00:00:00.0|2556             |Samuel Hammond  |1429.87    |\n",
      "|2013-08-08 00:00:00.0|4960             |Mary Smith      |1359.78    |\n",
      "|2013-08-09 00:00:00.0|11662            |Mary Smith      |1579.93    |\n",
      "|2013-08-10 00:00:00.0|11806            |Mildred Hester  |1699.9     |\n",
      "|2013-08-11 00:00:00.0|7270             |Mary Smith      |1659.86    |\n",
      "|2013-08-12 00:00:00.0|7565             |Jean Donovan    |1659.86    |\n",
      "+---------------------+-----------------+----------------+-----------+\n",
      "only showing top 20 rows\n",
      "\n"
     ]
    }
   ],
   "source": [
    "top_cust_per_day_by_rev\n",
    " .join(customers_df, top_cust_per_day_by_rev(\"order_customer_id\") === customers_df(\"customer_id\"))\n",
    " .select(col(\"order_date\"),col(\"order_customer_id\"), concat($\"customer_fname\",lit(\" \"),$\"customer_lname\").alias(\"customer_name\"),col(\"order_total\"))\n",
    " .orderBy(\"order_date\")\n",
    " .show(false)"
   ]
  },
  {
   "cell_type": "markdown",
   "metadata": {},
   "source": [
    "### 4.20 Get the top 3 Max Revenue Generating Customers Per Month in 2013:"
   ]
  },
  {
   "cell_type": "markdown",
   "metadata": {},
   "source": [
    "**SQL:**"
   ]
  },
  {
   "cell_type": "code",
   "execution_count": 93,
   "metadata": {},
   "outputs": [
    {
     "data": {
      "text/plain": [
       "UserDefinedFunction(<function1>,StringType,Some(List(IntegerType)))"
      ]
     },
     "execution_count": 93,
     "metadata": {},
     "output_type": "execute_result"
    }
   ],
   "source": [
    "// In order to use an udf with sql it needs to be registerd to sqlContext\n",
    "\n",
    "sqlContext.udf.register(\"udfmonTomonth\", ((mon: Int) => { \n",
    "    val monthmap = Map(1 -> \"Jan\",2 -> \"Feb\", 3 -> \"Mar\",4 -> \"Apr\",5 -> \"May\",6 -> \"Jun\", 7 -> \"Jul\",8 -> \"Aug\",9 -> \"Sep\",10 -> \"Oct\",11 -> \"Nov\",12 -> \"Dec\")\n",
    "        monthmap.get(mon)\n",
    "    }))"
   ]
  },
  {
   "cell_type": "code",
   "execution_count": 94,
   "metadata": {},
   "outputs": [
    {
     "data": {
      "text/plain": [
       "df = [order_month: string, customer_name: string ... 2 more fields]\n"
      ]
     },
     "metadata": {},
     "output_type": "display_data"
    },
    {
     "data": {
      "text/plain": [
       "[order_month: string, customer_name: string ... 2 more fields]"
      ]
     },
     "execution_count": 94,
     "metadata": {},
     "output_type": "execute_result"
    }
   ],
   "source": [
    "/*# 1. Join orders and order_items and group by order_month and customer_id to calculate the revenue per customer per month\n",
    "# 2. Sort the above using dense_rank() function to get the maximum revenue per month\n",
    "# 3. Join with customers table to get the customer details\n",
    "# 4. Select only rows with rank <= 1, that will give the top 3 customers with max revenue\n",
    "*/\n",
    "val df = spark.sql(\n",
    "        \"\"\"SELECT a.order_month, concat_ws(' ', c.customer_fname, c.customer_lname) as customer_name, a.order_total, a.dense_rank\n",
    "          |FROM ( \n",
    "          |     SELECT *, dense_rank() OVER (PARTITION BY order_month ORDER BY order_total DESC) as dense_rank \n",
    "          |     FROM ( \n",
    "          |          SELECT udfmonTomonth(MONTH(o.order_date)) as order_month, o.order_customer_id, ROUND(SUM(oi.order_item_subtotal), 2) as order_total \n",
    "          |          FROM orders o INNER JOIN order_items oi \n",
    "          |              ON o.order_id = oi.order_item_order_id  \n",
    "          |          WHERE o.order_status <> 'CANCELED' AND o.order_status <> 'SUSPECTED_FRAUD' \n",
    "          |          AND YEAR(o.order_date) = 2013\n",
    "          |          GROUP BY order_month, o.order_customer_id) \n",
    "          |     ) a  INNER JOIN customers c\n",
    "          |         ON a.order_customer_id = c.customer_id\n",
    "          |WHERE dense_rank <= 3 \n",
    "          |ORDER BY order_month, dense_rank\n",
    "          |      \n",
    "        \"\"\").cache()"
   ]
  },
  {
   "cell_type": "code",
   "execution_count": 95,
   "metadata": {},
   "outputs": [
    {
     "name": "stdout",
     "output_type": "stream",
     "text": [
      "+-----------+-----------------+-----------+----------+\n",
      "|order_month|customer_name    |order_total|dense_rank|\n",
      "+-----------+-----------------+-----------+----------+\n",
      "|Aug        |Victoria Smith   |4229.84    |1         |\n",
      "|Aug        |Shirley Whitehead|3649.66    |2         |\n",
      "|Aug        |Mary Smith       |3571.73    |3         |\n",
      "|Dec        |Mary Olson       |4029.61    |1         |\n",
      "|Dec        |Ann Smith        |3497.69    |2         |\n",
      "|Dec        |Janet Smith      |3179.68    |3         |\n",
      "|Jul        |Michelle Callahan|2781.73    |1         |\n",
      "|Jul        |William Smith    |2059.75    |2         |\n",
      "|Jul        |Alice Smith      |2009.75    |3         |\n",
      "|Nov        |David Smith      |3129.72    |1         |\n",
      "|Nov        |Rachel Smith     |3019.76    |2         |\n",
      "|Nov        |Robert Williams  |2989.74    |3         |\n",
      "|Oct        |Diana Smith      |3479.64    |1         |\n",
      "|Oct        |Mary Smith       |2959.77    |2         |\n",
      "|Oct        |Mary Smith       |2859.75    |3         |\n",
      "|Sep        |Nicholas Smith   |3309.62    |1         |\n",
      "|Sep        |Mary Rodriguez   |3233.62    |2         |\n",
      "|Sep        |Kevin Smith      |3134.56    |3         |\n",
      "+-----------+-----------------+-----------+----------+\n",
      "\n"
     ]
    }
   ],
   "source": [
    "df.show(false)"
   ]
  },
  {
   "cell_type": "markdown",
   "metadata": {},
   "source": [
    "**DF API:**"
   ]
  },
  {
   "cell_type": "code",
   "execution_count": 96,
   "metadata": {},
   "outputs": [
    {
     "data": {
      "text/plain": [
       "udfmonTomonth: org.apache.spark.sql.expressions.UserDefinedFunction\n"
      ]
     },
     "metadata": {},
     "output_type": "display_data"
    }
   ],
   "source": [
    "// Define an udf\n",
    "def udfmonTomonth = udf((mon: Int) => { \n",
    "    val monthmap = Map(1 -> \"Jan\",2 -> \"Feb\", 3 -> \"Mar\",4 -> \"Apr\",5 -> \"May\",6 -> \"Jun\", 7 -> \"Jul\",8 -> \"Aug\",9 -> \"Sep\",10 -> \"Oct\",11 -> \"Nov\",12 -> \"Dec\")\n",
    "    monthmap.get(mon)\n",
    "})"
   ]
  },
  {
   "cell_type": "code",
   "execution_count": 97,
   "metadata": {},
   "outputs": [
    {
     "data": {
      "text/plain": [
       "rev_per_month_per_cust = [order_month: string, order_customer_id: int ... 1 more field]\n"
      ]
     },
     "metadata": {},
     "output_type": "display_data"
    },
    {
     "data": {
      "text/plain": [
       "[order_month: string, order_customer_id: int ... 1 more field]"
      ]
     },
     "execution_count": 97,
     "metadata": {},
     "output_type": "execute_result"
    }
   ],
   "source": [
    "val rev_per_month_per_cust = orders_df\n",
    "                    .select(udfmonTomonth(month($\"order_date\")).alias(\"order_month\"), $\"order_id\", $\"order_customer_id\",$\"order_status\")\n",
    "                    .filter((col(\"order_status\") =!= \"CANCELED\") && (col(\"order_status\") =!= \"SUSPECTED_FRAUD\") && (year($\"order_date\") === 2013))\n",
    "                    .join(order_items_df, orders_df(\"order_id\") === order_items_df(\"order_item_order_id\"))\n",
    "                    .select(\"order_month\",\"order_customer_id\", \"order_item_subtotal\")\n",
    "                    .groupBy(\"order_month\",\"order_customer_id\")\n",
    "                    .agg(round(sum(\"order_item_subtotal\"),2).alias(\"order_total\"))\n",
    "                    .cache()"
   ]
  },
  {
   "cell_type": "code",
   "execution_count": 98,
   "metadata": {},
   "outputs": [
    {
     "name": "stdout",
     "output_type": "stream",
     "text": [
      "+-----------+-----------------+-----------+\n",
      "|order_month|order_customer_id|order_total|\n",
      "+-----------+-----------------+-----------+\n",
      "|Jul        |4840             |129.99     |\n",
      "|Jul        |8504             |1279.65    |\n",
      "|Jul        |7436             |399.96     |\n",
      "|Jul        |3752             |599.95     |\n",
      "|Jul        |9639             |129.99     |\n",
      "+-----------+-----------------+-----------+\n",
      "only showing top 5 rows\n",
      "\n"
     ]
    }
   ],
   "source": [
    "rev_per_month_per_cust.show(5,false)"
   ]
  },
  {
   "cell_type": "code",
   "execution_count": 99,
   "metadata": {},
   "outputs": [
    {
     "data": {
      "text/plain": [
       "windowSpec = org.apache.spark.sql.expressions.WindowSpec@68d4bea5\n"
      ]
     },
     "metadata": {},
     "output_type": "display_data"
    },
    {
     "data": {
      "text/plain": [
       "org.apache.spark.sql.expressions.WindowSpec@68d4bea5"
      ]
     },
     "execution_count": 99,
     "metadata": {},
     "output_type": "execute_result"
    }
   ],
   "source": [
    "val windowSpec = Window.partitionBy(rev_per_month_per_cust(\"order_month\")).orderBy(rev_per_month_per_cust(\"order_total\").desc)"
   ]
  },
  {
   "cell_type": "code",
   "execution_count": 100,
   "metadata": {},
   "outputs": [
    {
     "data": {
      "text/plain": [
       "top_cust_per_month_by_rev = [order_month: string, order_customer_id: int ... 2 more fields]\n"
      ]
     },
     "metadata": {},
     "output_type": "display_data"
    },
    {
     "data": {
      "text/plain": [
       "[order_month: string, order_customer_id: int ... 2 more fields]"
      ]
     },
     "execution_count": 100,
     "metadata": {},
     "output_type": "execute_result"
    }
   ],
   "source": [
    "val top_cust_per_month_by_rev = rev_per_month_per_cust\n",
    "                           .withColumn(\"dense_rank\",dense_rank().over(windowSpec))\n",
    "                           .filter(col(\"dense_rank\") <= 3)\n",
    "                           .orderBy(\"order_month\")\n",
    "                           .cache()"
   ]
  },
  {
   "cell_type": "code",
   "execution_count": 101,
   "metadata": {},
   "outputs": [
    {
     "name": "stdout",
     "output_type": "stream",
     "text": [
      "+-----------+-----------------+-----------+----------+\n",
      "|order_month|order_customer_id|order_total|dense_rank|\n",
      "+-----------+-----------------+-----------+----------+\n",
      "|Aug        |9515             |4229.84    |1         |\n",
      "|Aug        |5047             |3649.66    |2         |\n",
      "|Aug        |791              |3571.73    |3         |\n",
      "|Dec        |9586             |4029.61    |1         |\n",
      "|Dec        |10291            |3497.69    |2         |\n",
      "+-----------+-----------------+-----------+----------+\n",
      "only showing top 5 rows\n",
      "\n"
     ]
    }
   ],
   "source": [
    "top_cust_per_month_by_rev.show(5,false)"
   ]
  },
  {
   "cell_type": "code",
   "execution_count": 102,
   "metadata": {
    "scrolled": false
   },
   "outputs": [
    {
     "name": "stdout",
     "output_type": "stream",
     "text": [
      "+-----------+-----------------+-----------------+-----------+----------+\n",
      "|order_month|order_customer_id|customer_name    |order_total|dense_rank|\n",
      "+-----------+-----------------+-----------------+-----------+----------+\n",
      "|Aug        |9515             |Victoria Smith   |4229.84    |1         |\n",
      "|Aug        |5047             |Shirley Whitehead|3649.66    |2         |\n",
      "|Aug        |791              |Mary Smith       |3571.73    |3         |\n",
      "|Dec        |9586             |Mary Olson       |4029.61    |1         |\n",
      "|Dec        |10291            |Ann Smith        |3497.69    |2         |\n",
      "|Dec        |4781             |Janet Smith      |3179.68    |3         |\n",
      "|Jul        |5293             |Michelle Callahan|2781.73    |1         |\n",
      "|Jul        |4257             |William Smith    |2059.75    |2         |\n",
      "|Jul        |32               |Alice Smith      |2009.75    |3         |\n",
      "|Nov        |7305             |David Smith      |3129.72    |1         |\n",
      "|Nov        |5683             |Rachel Smith     |3019.76    |2         |\n",
      "|Nov        |2740             |Robert Williams  |2989.74    |3         |\n",
      "|Oct        |10567            |Diana Smith      |3479.64    |1         |\n",
      "|Oct        |10653            |Mary Smith       |2959.77    |2         |\n",
      "|Oct        |2389             |Mary Smith       |2859.75    |3         |\n",
      "|Sep        |6643             |Nicholas Smith   |3309.62    |1         |\n",
      "|Sep        |5560             |Mary Rodriguez   |3233.62    |2         |\n",
      "|Sep        |11516            |Kevin Smith      |3134.56    |3         |\n",
      "+-----------+-----------------+-----------------+-----------+----------+\n",
      "\n"
     ]
    }
   ],
   "source": [
    "top_cust_per_month_by_rev\n",
    "    .join(customers_df, top_cust_per_month_by_rev(\"order_customer_id\") === customers_df(\"customer_id\"))\n",
    "    .select(col(\"order_month\"),col(\"order_customer_id\"), concat($\"customer_fname\",lit(\" \"),$\"customer_lname\").alias(\"customer_name\"),col(\"order_total\"),col(\"dense_rank\"))\n",
    "    .show(false)"
   ]
  },
  {
   "cell_type": "markdown",
   "metadata": {},
   "source": [
    "### 4.21 Get All Distinct Pair of Products the occurred in Orders where order total was greater than 300:\n",
    "\n",
    "This problem can be solved using Self Join. But there are some corner cases:\n",
    "+ Pair (a, b) and (b, a) are same, so they should not be reported twice.\n",
    "+ What happens if item is order more than once in the same order id? i.e. product a appears more than once in the line items of the order id?\n",
    "\n",
    "Let's check our fictitious dataset from Cloudera of order items."
   ]
  },
  {
   "cell_type": "code",
   "execution_count": 103,
   "metadata": {},
   "outputs": [
    {
     "name": "stdout",
     "output_type": "stream",
     "text": [
      "+-------------------+---------------------+-------------------+-------------------+\n",
      "|order_item_order_id|order_item_product_id|order_item_quantity|order_item_subtotal|\n",
      "+-------------------+---------------------+-------------------+-------------------+\n",
      "|                  1|                  957|                  1|             299.98|\n",
      "|                  2|                  403|                  1|             129.99|\n",
      "|                  2|                  502|                  5|              250.0|\n",
      "|                  2|                 1073|                  1|             199.99|\n",
      "|                  4|                  365|                  5|             299.95|\n",
      "|                  4|                  502|                  3|              150.0|\n",
      "|                  4|                  897|                  2|              49.98|\n",
      "|                  4|                 1014|                  4|             199.92|\n",
      "|                  5|                  365|                  5|             299.95|\n",
      "|                  5|                  403|                  1|             129.99|\n",
      "+-------------------+---------------------+-------------------+-------------------+\n",
      "only showing top 10 rows\n",
      "\n"
     ]
    }
   ],
   "source": [
    "spark.sql(\"\"\"SELECT order_item_order_id, order_item_product_id, order_item_quantity, order_item_subtotal\n",
    "          |FROM order_items oi\n",
    "          |ORDER BY order_item_order_id, order_item_product_id\n",
    "        \"\"\").show(10)"
   ]
  },
  {
   "cell_type": "markdown",
   "metadata": {},
   "source": [
    "**Corner Case:**\n",
    "\n",
    "Let's check an order where the same item is ordered twice in a single order. Here in order_id 148 we have product_id 502 ordered twice albeit with different quantities."
   ]
  },
  {
   "cell_type": "code",
   "execution_count": 104,
   "metadata": {},
   "outputs": [
    {
     "name": "stdout",
     "output_type": "stream",
     "text": [
      "+-------------------+---------------------+-------------------+-------------------+\n",
      "|order_item_order_id|order_item_product_id|order_item_quantity|order_item_subtotal|\n",
      "+-------------------+---------------------+-------------------+-------------------+\n",
      "|                148|                  403|                  1|             129.99|\n",
      "|                148|                  502|                  2|              100.0|\n",
      "|                148|                  502|                  5|              250.0|\n",
      "+-------------------+---------------------+-------------------+-------------------+\n",
      "\n"
     ]
    }
   ],
   "source": [
    "spark.sql(\"\"\"SELECT order_item_order_id, order_item_product_id, order_item_quantity, order_item_subtotal\n",
    "          |FROM order_items oi \n",
    "          |WHERE oi.order_item_order_id = 148\n",
    "          |ORDER BY order_item_product_id\n",
    "        \"\"\").show()"
   ]
  },
  {
   "cell_type": "markdown",
   "metadata": {},
   "source": [
    "**SQL:**\n",
    "\n",
    "Create self join between order_items table and filtered out order_items table where order_total >= 300. Moreover, The sql *`AND t1.order_item_product_id < t2.order_item_product_id`* will ensure that pair (a, b) and (b, a) are treated as same and are not reported twice."
   ]
  },
  {
   "cell_type": "code",
   "execution_count": 105,
   "metadata": {},
   "outputs": [
    {
     "name": "stdout",
     "output_type": "stream",
     "text": [
      "+------+-----+-----+---------+\n",
      "|txn_id|prd_a|prd_b|txn_total|\n",
      "+------+-----+-----+---------+\n",
      "|     2|  403|  502|   579.98|\n",
      "|     2|  403| 1073|   579.98|\n",
      "|     2|  502| 1073|   579.98|\n",
      "|     4|  365|  502|   699.85|\n",
      "|     4|  365| 1014|   699.85|\n",
      "|     4|  365|  897|   699.85|\n",
      "|     4|  502|  897|   699.85|\n",
      "|     4|  502| 1014|   699.85|\n",
      "|     4|  897| 1014|   699.85|\n",
      "|     5|  365|  403|  1129.86|\n",
      "|     5|  365| 1014|  1129.86|\n",
      "|     5|  365|  957|  1129.86|\n",
      "|     5|  403| 1014|  1129.86|\n",
      "|     5|  403|  957|  1129.86|\n",
      "|     5|  957| 1014|  1129.86|\n",
      "|     7|  926|  957|   579.92|\n",
      "|     7|  926| 1073|   579.92|\n",
      "|     7|  957| 1073|   579.92|\n",
      "|     8|  365| 1014|   729.84|\n",
      "|     8|  365|  502|   729.84|\n",
      "+------+-----+-----+---------+\n",
      "only showing top 20 rows\n",
      "\n"
     ]
    }
   ],
   "source": [
    "spark.sql(\"\"\"SELECT distinct a.order_item_order_id as txn_id, t1.order_item_product_id as prd_a, t2.order_item_product_id as prd_b, ROUND(a.order_total, 2) as txn_total\n",
    "          |FROM (\n",
    "          |    SELECT order_item_order_id, SUM(order_item_subtotal) as order_total\n",
    "          |    FROM order_items\n",
    "          |    GROUP BY order_item_order_id) a, \n",
    "          |    order_items t1,\n",
    "          |    order_items t2\n",
    "          |WHERE a.order_total >= 300\n",
    "          |AND t1.order_item_order_id = a.order_item_order_id\n",
    "          |AND t2.order_item_order_id = a.order_item_order_id\n",
    "          |AND t1.order_item_product_id < t2.order_item_product_id\n",
    "          |ORDER BY txn_id, prd_a\n",
    "        \"\"\").show()"
   ]
  },
  {
   "cell_type": "markdown",
   "metadata": {},
   "source": [
    "**DF API:**\n",
    "\n",
    "Doing the same thing as above but this time using DataFrame APIs instead of SQL. \n",
    "\n",
    "Note: the usage of alias method on dataframe itself for self joins."
   ]
  },
  {
   "cell_type": "code",
   "execution_count": 106,
   "metadata": {},
   "outputs": [
    {
     "data": {
      "text/plain": [
       "t1 = [order_item_id: int, order_item_order_id: int ... 4 more fields]\n",
       "t2 = [order_item_id: int, order_item_order_id: int ... 4 more fields]\n"
      ]
     },
     "metadata": {},
     "output_type": "display_data"
    },
    {
     "data": {
      "text/plain": [
       "[order_item_id: int, order_item_order_id: int ... 4 more fields]"
      ]
     },
     "execution_count": 106,
     "metadata": {},
     "output_type": "execute_result"
    }
   ],
   "source": [
    "val t1 = order_items_df.alias(\"t1\")\n",
    "val t2 = order_items_df.alias(\"t2\")"
   ]
  },
  {
   "cell_type": "code",
   "execution_count": 107,
   "metadata": {
    "scrolled": false
   },
   "outputs": [
    {
     "data": {
      "text/plain": [
       "df = [txn_id: int, prd_a: int ... 2 more fields]\n"
      ]
     },
     "metadata": {},
     "output_type": "display_data"
    },
    {
     "data": {
      "text/plain": [
       "[txn_id: int, prd_a: int ... 2 more fields]"
      ]
     },
     "execution_count": 107,
     "metadata": {},
     "output_type": "execute_result"
    }
   ],
   "source": [
    "val df = (order_items_df\n",
    "      .groupBy(order_items_df(\"order_item_order_id\"))\n",
    "      .agg(sum(order_items_df(\"order_item_subtotal\")).alias(\"order_total\"))\n",
    "      .filter(col(\"order_total\") >= 300)\n",
    "      .join(t1, $\"t1.order_item_order_id\" === order_items_df(\"order_item_order_id\"))\n",
    "      .join(t2, $\"t2.order_item_order_id\" === order_items_df(\"order_item_order_id\"))\n",
    "      .where($\"t1.order_item_product_id\" < $\"t2.order_item_product_id\")\n",
    "      .select(order_items_df(\"order_item_order_id\").alias(\"txn_id\"), \n",
    "              $\"t1.order_item_product_id\".alias(\"prd_a\"), \n",
    "              $\"t2.order_item_product_id\".alias(\"prd_b\"),\n",
    "              round(col(\"order_total\"), 2).alias(\"txn_total\"))\n",
    "      .distinct()\n",
    "      .orderBy(\"txn_id\", \"prd_a\")\n",
    "      .cache())"
   ]
  },
  {
   "cell_type": "code",
   "execution_count": 108,
   "metadata": {},
   "outputs": [
    {
     "name": "stdout",
     "output_type": "stream",
     "text": [
      "+------+-----+-----+---------+\n",
      "|txn_id|prd_a|prd_b|txn_total|\n",
      "+------+-----+-----+---------+\n",
      "|     2|  403|  502|   579.98|\n",
      "|     2|  403| 1073|   579.98|\n",
      "|     2|  502| 1073|   579.98|\n",
      "|     4|  365| 1014|   699.85|\n",
      "|     4|  365|  897|   699.85|\n",
      "|     4|  365|  502|   699.85|\n",
      "|     4|  502|  897|   699.85|\n",
      "|     4|  502| 1014|   699.85|\n",
      "|     4|  897| 1014|   699.85|\n",
      "|     5|  365|  957|  1129.86|\n",
      "|     5|  365| 1014|  1129.86|\n",
      "|     5|  365|  403|  1129.86|\n",
      "|     5|  403|  957|  1129.86|\n",
      "|     5|  403| 1014|  1129.86|\n",
      "|     5|  957| 1014|  1129.86|\n",
      "|     7|  926|  957|   579.92|\n",
      "|     7|  926| 1073|   579.92|\n",
      "|     7|  957| 1073|   579.92|\n",
      "|     8|  365| 1014|   729.84|\n",
      "|     8|  365|  502|   729.84|\n",
      "+------+-----+-----+---------+\n",
      "only showing top 20 rows\n",
      "\n"
     ]
    }
   ],
   "source": [
    "df.show()"
   ]
  },
  {
   "cell_type": "code",
   "execution_count": 109,
   "metadata": {
    "collapsed": true
   },
   "outputs": [],
   "source": [
    "spark.stop()"
   ]
  },
  {
   "cell_type": "code",
   "execution_count": null,
   "metadata": {
    "collapsed": true
   },
   "outputs": [],
   "source": []
  }
 ],
 "metadata": {
  "kernelspec": {
   "display_name": "Apache Toree - Scala",
   "language": "scala",
   "name": "apache_toree_scala"
  },
  "language_info": {
   "codemirror_mode": "text/x-scala",
   "file_extension": ".scala",
   "mimetype": "text/x-scala",
   "name": "scala",
   "pygments_lexer": "scala",
   "version": "2.11.8"
  }
 },
 "nbformat": 4,
 "nbformat_minor": 2
}
